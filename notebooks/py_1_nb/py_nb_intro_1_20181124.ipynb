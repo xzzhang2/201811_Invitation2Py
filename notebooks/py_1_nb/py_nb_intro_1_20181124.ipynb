{
 "cells": [
  {
   "cell_type": "markdown",
   "metadata": {},
   "source": [
    "# Invitation to Python: Python in a Notebook (1/2) \n",
    "\n",
    "- **Date & Venue**: 24 Nov 2018, CVA Lab 702\n",
    "\n",
    "- **Course Instructor**: Dr. Xinzhi Zhang (JOUR, Hong Kong Baptist University)\n",
    " - xzzhang2@gmail.com\n",
    " - www.drxinzhizhang.com\n",
    " - https://github.com/xzzhang2\n",
    " - @xin_zhi_zhang\n",
    " - https://scholar.google.com.hk/citations?user=iOFeIDIAAAAJ&hl=en \n",
    "\n",
    "\n",
    "- **Agenda**\n",
    " 1. Executing a Python program\n",
    " 2. Markdown language in the Notebook \n",
    " 3. Fundamentals of cells and scripts\n",
    " 4. Python variables and expressions\n",
    " 4. Python data types \n",
    " 5. Python data structures "
   ]
  },
  {
   "cell_type": "markdown",
   "metadata": {},
   "source": [
    "## Executing a Python program: CLI vs. Jupytyer Notebook\n",
    "\n",
    "*The Jupyter Notebook is an open-source web application that allows you to create and share documents that contain live, [interactive] and [executable] code, equations, visualizations and narrative text. Uses include: data cleaning and transformation, numerical simulation, statistical modeling, data visualization, machine learning, and much more. It is a document format that allows executable code, formatted text, graphics, and even interactive features to be combined into a single document. *  --- From the [Project Jupyter](https://jupyter.org/).\n",
    "\n",
    "\n",
    "\n",
    " - Jupyter Notebook has two \"cell types\": **Markdown** and **Code**\n",
    "\n",
    " - To change cell type: \n",
    "\n",
    "![cell type](intro_celltype.png)"
   ]
  },
  {
   "cell_type": "markdown",
   "metadata": {},
   "source": [
    "## some short-cut keys \n",
    "\n",
    "1. alt + enter: adding one more line \n",
    "2. a (adding one more line above the current line)\n",
    "3. b (adding one more line below the current line)\n",
    "4. dd (removing the current line - seems to be undoable...so please be careful here) \n",
    "5. \"m\" turns the current line into markdown "
   ]
  },
  {
   "cell_type": "markdown",
   "metadata": {},
   "source": [
    "## Markdown"
   ]
  },
  {
   "cell_type": "markdown",
   "metadata": {},
   "source": [
    " - You may want to read this: **A quick guide to [Markdown language](https://github.com/adam-p/markdown-here/wiki/Markdown-Cheatsheet)**"
   ]
  },
  {
   "cell_type": "markdown",
   "metadata": {},
   "source": [
    "Some examples of markdown language\n",
    "\n",
    "# header level 1\n",
    "## header level 2\n",
    "### header level 3\n",
    "#### header level 4 \n",
    " \n",
    "- points \n",
    " - subpoints 1\n",
    " - subpoints 2\n",
    " \n",
    "\n",
    "- points \n",
    " - subpoints \n",
    "\n",
    "\n",
    "1. numbers \n",
    "2. numbers \n",
    "3. numbers\n",
    "1. numbers\n",
    "5. numbers \n",
    " \n",
    " \n",
    " *italic*\n",
    " \n",
    " **bold**\n",
    " \n",
    "inserting an [URL](about:blank) \n",
    "\n",
    "inserting a picture: ![this is the alternative text](image address.png)\n",
    "\n",
    "\n",
    "\n",
    "\n",
    "\n",
    "\n",
    "Python (or any other programming language) Code\n",
    "```python\n",
    "# simple adder function\n",
    "def adder(x,y):\n",
    "    return x+y\n",
    "```\n"
   ]
  },
  {
   "cell_type": "markdown",
   "metadata": {},
   "source": [
    "You can use Markdown language to create and format your own pages, especially on GitHub.\n",
    "\n",
    "For example, \n",
    "- [DataX project](https://github.com/afo/dataXhkbu)\n",
    "- [Touring Python](https://github.com/jakevdp/WhirlwindTourOfPython) \n",
    "- [Reporting project LATimes](https://github.com/datadesk/california-electricity-capacity-analysis)\n",
    "- [Python Data Handbook](https://github.com/jakevdp/PythonDataScienceHandbook)\n",
    "- [Mining the social web](https://github.com/ptwobrussell/Mining-the-Social-Web-2nd-Edition)\n",
    "- [CityU COM5507](https://github.com/xzzhang2/201819A_cityu_com5507)\n",
    "\n",
    "\n",
    "Among many others..."
   ]
  },
  {
   "cell_type": "code",
   "execution_count": null,
   "metadata": {
    "collapsed": true
   },
   "outputs": [],
   "source": []
  },
  {
   "cell_type": "markdown",
   "metadata": {},
   "source": [
    "## Cell: the basic \"scripts\"  "
   ]
  },
  {
   "cell_type": "code",
   "execution_count": null,
   "metadata": {
    "collapsed": true,
    "scrolled": false
   },
   "outputs": [],
   "source": [
    "# CLI here (!) \n",
    "!ls -l # the same as what you are doing in CLI"
   ]
  },
  {
   "cell_type": "code",
   "execution_count": null,
   "metadata": {
    "collapsed": true
   },
   "outputs": [],
   "source": [
    "# for Windows users\n",
    "# !dir for !ls"
   ]
  },
  {
   "cell_type": "code",
   "execution_count": null,
   "metadata": {
    "collapsed": true,
    "scrolled": true
   },
   "outputs": [],
   "source": [
    "!date"
   ]
  },
  {
   "cell_type": "code",
   "execution_count": null,
   "metadata": {
    "collapsed": true
   },
   "outputs": [],
   "source": [
    "!pwd"
   ]
  },
  {
   "cell_type": "code",
   "execution_count": null,
   "metadata": {
    "collapsed": true
   },
   "outputs": [],
   "source": [
    "# for windows users\n",
    "# !cd for !pwd"
   ]
  },
  {
   "cell_type": "code",
   "execution_count": null,
   "metadata": {
    "collapsed": true
   },
   "outputs": [],
   "source": [
    "import this"
   ]
  },
  {
   "cell_type": "code",
   "execution_count": null,
   "metadata": {
    "collapsed": true
   },
   "outputs": [],
   "source": [
    "# print - comments are written in this way\n",
    "print( \"Hello World!\" )  "
   ]
  },
  {
   "cell_type": "code",
   "execution_count": null,
   "metadata": {
    "collapsed": true
   },
   "outputs": [],
   "source": []
  },
  {
   "cell_type": "code",
   "execution_count": null,
   "metadata": {
    "collapsed": true
   },
   "outputs": [],
   "source": [
    "# as a calculator \n",
    "1 + 1"
   ]
  },
  {
   "cell_type": "code",
   "execution_count": null,
   "metadata": {
    "collapsed": true
   },
   "outputs": [],
   "source": [
    "8 + 6*2*3 - (15-13)"
   ]
  },
  {
   "cell_type": "code",
   "execution_count": null,
   "metadata": {
    "collapsed": true,
    "scrolled": true
   },
   "outputs": [],
   "source": [
    "# input as a calculator \n",
    "rate = input('please input the rate: ')\n",
    "hours = input('please input the working hours: ')\n",
    "MPF = 1.05\n",
    "salary = float(rate) * float(hours) * MPF\n",
    "print(salary)"
   ]
  },
  {
   "cell_type": "code",
   "execution_count": null,
   "metadata": {
    "collapsed": true
   },
   "outputs": [],
   "source": [
    "# Lines are executed sequentially\n",
    "# However, a cell displays output of last line. \n",
    "1 + 1\n",
    "1 + 2\n",
    "5 + 6"
   ]
  },
  {
   "cell_type": "code",
   "execution_count": null,
   "metadata": {
    "collapsed": true,
    "scrolled": false
   },
   "outputs": [],
   "source": [
    "# unless you want all the outputs \n",
    "print(1 + 1)\n",
    "print(1 + 2)\n",
    "print(5 + 6)"
   ]
  },
  {
   "cell_type": "code",
   "execution_count": null,
   "metadata": {
    "collapsed": true
   },
   "outputs": [],
   "source": [
    "# expressions \n",
    "a = 3\n",
    "b = 5\n",
    "\n",
    "print (a+b)\n",
    "print (a*b)\n",
    "\n",
    "print (b**a) # ** is exponentiation\n",
    "print (b%a) # %% is remainder "
   ]
  },
  {
   "cell_type": "code",
   "execution_count": null,
   "metadata": {
    "collapsed": true
   },
   "outputs": [],
   "source": []
  },
  {
   "cell_type": "markdown",
   "metadata": {},
   "source": [
    "## Python variables and expressions"
   ]
  },
  {
   "cell_type": "markdown",
   "metadata": {},
   "source": [
    "- Constants: fixed values. Can be both numeric or string (with a quote)\n",
    "\n",
    "\n",
    "- Variables: a named place in the memory where a programmer can store data and later retrieve the data using the variable “name”\n",
    "  - Programmers get to choose the names of the variables\n",
    "  - You can change the contents of a variable in a later statement \n",
    "\n",
    "\n",
    "- Assignments: In Python, we assign a value to a variable using the assignment statement (=)"
   ]
  },
  {
   "cell_type": "code",
   "execution_count": null,
   "metadata": {
    "collapsed": true
   },
   "outputs": [],
   "source": [
    "# constants\n",
    "x = 6\n",
    "y = \"good\"\n",
    "print(x, y)"
   ]
  },
  {
   "cell_type": "code",
   "execution_count": null,
   "metadata": {
    "collapsed": true
   },
   "outputs": [],
   "source": [
    "# variables\n",
    "x = 6\n",
    "y = x + 4\n",
    "z = y * 8\n",
    "print(x, y, z)"
   ]
  },
  {
   "cell_type": "code",
   "execution_count": null,
   "metadata": {
    "collapsed": true
   },
   "outputs": [],
   "source": [
    "# naming variables\n",
    "hours = 4.0\n",
    "rate = 60\n",
    "MPF = 1.05\n",
    "pay = hours * rate * MPF \n",
    "print(pay)"
   ]
  },
  {
   "cell_type": "code",
   "execution_count": null,
   "metadata": {
    "collapsed": true
   },
   "outputs": [],
   "source": []
  },
  {
   "cell_type": "markdown",
   "metadata": {},
   "source": [
    "## Python data types "
   ]
  },
  {
   "cell_type": "markdown",
   "metadata": {},
   "source": [
    "### int (integer - 整數)"
   ]
  },
  {
   "cell_type": "code",
   "execution_count": null,
   "metadata": {
    "collapsed": true
   },
   "outputs": [],
   "source": [
    "print('this is int', int(5))  \n",
    "print('what about this?', int(5.999998))  "
   ]
  },
  {
   "cell_type": "markdown",
   "metadata": {},
   "source": [
    "### float (小數)"
   ]
  },
  {
   "cell_type": "code",
   "execution_count": null,
   "metadata": {
    "collapsed": true
   },
   "outputs": [],
   "source": [
    "print('this is float', float(5.999998))  \n",
    "print('what about this', float(5))  "
   ]
  },
  {
   "cell_type": "markdown",
   "metadata": {},
   "source": [
    "### complex: complex (real, imaginary)"
   ]
  },
  {
   "cell_type": "code",
   "execution_count": null,
   "metadata": {
    "collapsed": true
   },
   "outputs": [],
   "source": [
    "print(complex (1,2)) "
   ]
  },
  {
   "cell_type": "markdown",
   "metadata": {},
   "source": [
    "### boolean  "
   ]
  },
  {
   "cell_type": "code",
   "execution_count": null,
   "metadata": {
    "collapsed": true
   },
   "outputs": [],
   "source": [
    "a = True\n",
    "b = False\n",
    "c = True\n",
    "print (a and b)\n",
    "print (a or b)\n",
    "\n",
    "nt = None "
   ]
  },
  {
   "cell_type": "markdown",
   "metadata": {},
   "source": [
    "### None type\n",
    "- NoneType is the type for the None object, which is an object that indicates no value. \n",
    "- None is the return value of functions that \"don't return anything\"."
   ]
  },
  {
   "cell_type": "markdown",
   "metadata": {},
   "source": [
    "### strings \n",
    "- You can use either double quotes (\") or single quotes (') for text literals."
   ]
  },
  {
   "cell_type": "code",
   "execution_count": null,
   "metadata": {
    "collapsed": true
   },
   "outputs": [],
   "source": [
    "programme_name = \"Data and Media Communication\"\n",
    "\n",
    "print(\"programme_name\")\n",
    "print(programme_name)"
   ]
  },
  {
   "cell_type": "markdown",
   "metadata": {},
   "source": [
    "- strings can be \"Concatenated\" \n",
    "- consider the following four lines. What will be the results, and why?  "
   ]
  },
  {
   "cell_type": "code",
   "execution_count": null,
   "metadata": {
    "collapsed": true
   },
   "outputs": [],
   "source": [
    "print(\"Hello,\" +  programme_name)\n",
    "#print(\"Hello,\" + 3) \n",
    "print(\"Hello,\" + '3') \n",
    "print(\"Hello,\" + str(3)) "
   ]
  },
  {
   "cell_type": "markdown",
   "metadata": {},
   "source": [
    "- Triple quotes are useful for multiple line strings\n",
    "- sometimes triple quotes can also be used to \"de-function\" or \"mute\" a section of codes during the debugging process "
   ]
  },
  {
   "cell_type": "code",
   "execution_count": null,
   "metadata": {
    "collapsed": true
   },
   "outputs": [],
   "source": [
    "y = '''\n",
    "One pill makes you larger,\n",
    "and one pill makes you small; \n",
    "And the ones that mother gives you, \n",
    "don't do anything at all, \n",
    "Go ask Alice, \n",
    "when she's ten feet tall; \n",
    "And if you go chasing rabbits, \n",
    "and you know you're going to fall;\n",
    "Tell 'em a hookah-smoking caterpillar has given you the call, \n",
    "And call Alice, \n",
    "when she was just small, \n",
    "'''\n",
    "print (y)"
   ]
  },
  {
   "cell_type": "markdown",
   "metadata": {},
   "source": [
    "### More on strings: String operators and methods\n",
    "- More advanced topics on this will be introduced in \"text mining.\""
   ]
  },
  {
   "cell_type": "code",
   "execution_count": null,
   "metadata": {
    "collapsed": true
   },
   "outputs": [],
   "source": [
    "# change all the letters into uppercase\n",
    "y.upper()"
   ]
  },
  {
   "cell_type": "code",
   "execution_count": null,
   "metadata": {
    "collapsed": true
   },
   "outputs": [],
   "source": [
    "# tokenize the string by space, then save all the strings into 'words1', which is a list\n",
    "words1 = y.split(' ')\n",
    "print (words1)"
   ]
  },
  {
   "cell_type": "code",
   "execution_count": null,
   "metadata": {
    "collapsed": true
   },
   "outputs": [],
   "source": [
    "type(words1)"
   ]
  },
  {
   "cell_type": "code",
   "execution_count": null,
   "metadata": {
    "collapsed": true
   },
   "outputs": [],
   "source": [
    "# tokenize by comma \n",
    "words2 = y.split(',')\n",
    "print (words2)"
   ]
  },
  {
   "cell_type": "code",
   "execution_count": null,
   "metadata": {
    "collapsed": true
   },
   "outputs": [],
   "source": [
    "# tokenize by semicolon \n",
    "words = y.split(';')\n",
    "print (words)"
   ]
  },
  {
   "cell_type": "code",
   "execution_count": null,
   "metadata": {
    "collapsed": true
   },
   "outputs": [],
   "source": [
    "# remove break line character\n",
    "[qwert0000000.replace('\\n','') for qwert0000000 in words1]"
   ]
  },
  {
   "cell_type": "code",
   "execution_count": null,
   "metadata": {
    "collapsed": true
   },
   "outputs": [],
   "source": [
    "# replace more \n",
    "[w.replace('you','her') for w in words]"
   ]
  },
  {
   "cell_type": "code",
   "execution_count": null,
   "metadata": {
    "collapsed": true
   },
   "outputs": [],
   "source": [
    "# tips: always check the types \n",
    "print(type(\"the type is...\"))\n",
    "\n",
    "print(type(8.9999))"
   ]
  },
  {
   "cell_type": "code",
   "execution_count": null,
   "metadata": {
    "collapsed": true
   },
   "outputs": [],
   "source": []
  },
  {
   "cell_type": "markdown",
   "metadata": {},
   "source": [
    "## Python data structures "
   ]
  },
  {
   "cell_type": "markdown",
   "metadata": {},
   "source": [
    "![python data stru](intro_pydatastruc.png)"
   ]
  },
  {
   "cell_type": "markdown",
   "metadata": {},
   "source": [
    "### Lists "
   ]
  },
  {
   "cell_type": "code",
   "execution_count": null,
   "metadata": {
    "collapsed": true
   },
   "outputs": [],
   "source": [
    "# Elements in the list can be integers, strings, empty, and another list (nested lists) s\n",
    "\n",
    "list1 = [10, 20, 30, 40]\n",
    "list2 = ['crunchy frog', 'ram bladder', 'lark vomit','harry potter', 'sun wu kong']\n",
    "list3 = [] \n",
    "list4 = [list1, 10, 20, 30, 'abc', 'def', ['n1, n2'] ]\n",
    "\n",
    "print(list1)\n",
    "print(list2)\n",
    "print(list3)\n",
    "print(list4)\n",
    "\n",
    "print(len(list4))"
   ]
  },
  {
   "cell_type": "code",
   "execution_count": null,
   "metadata": {
    "collapsed": true
   },
   "outputs": [],
   "source": [
    "print(list2[7])"
   ]
  },
  {
   "cell_type": "code",
   "execution_count": null,
   "metadata": {
    "collapsed": true,
    "scrolled": true
   },
   "outputs": [],
   "source": [
    "# Lists are mutable (\"changable\")\n",
    "\n",
    "# changing an element in the list \n",
    "print(\"before:\" , list2)\n",
    "\n",
    "list2[2] = 'another guy not lark vomit'\n",
    "\n",
    "print(\"after:\" , list2)"
   ]
  },
  {
   "cell_type": "code",
   "execution_count": null,
   "metadata": {
    "collapsed": true,
    "scrolled": false
   },
   "outputs": [],
   "source": [
    "# traversing a list\n",
    "# for numerics\n",
    "# len(list1) returns the length of the list1\n",
    "for i in range(len(list1)):\n",
    "    list1[i] = list1[i] * 2\n",
    "print(list1)"
   ]
  },
  {
   "cell_type": "code",
   "execution_count": null,
   "metadata": {
    "collapsed": true
   },
   "outputs": [],
   "source": [
    "# indexing a list\n",
    "list2[1] # zero indexing\n",
    "print(list2[1])\n",
    "print(list2[-3])\n",
    "print(list2[-4])"
   ]
  },
  {
   "cell_type": "code",
   "execution_count": null,
   "metadata": {
    "collapsed": true
   },
   "outputs": [],
   "source": [
    "# list concatenating\n",
    "list_1_2 = list1 + list2\n",
    "print(list_1_2)"
   ]
  },
  {
   "cell_type": "code",
   "execution_count": null,
   "metadata": {
    "collapsed": true
   },
   "outputs": [],
   "source": [
    "# slicing\n",
    "print(list2[0:3]) \n",
    "print(list2[1:    ])\n",
    "print(list2[:3])"
   ]
  },
  {
   "cell_type": "code",
   "execution_count": null,
   "metadata": {
    "collapsed": true
   },
   "outputs": [],
   "source": [
    "# reversing\n",
    "print(list2[::-1])"
   ]
  },
  {
   "cell_type": "code",
   "execution_count": null,
   "metadata": {
    "collapsed": true
   },
   "outputs": [],
   "source": [
    "# checking the list\n",
    "# how long is the list? len()\n",
    "print(len(list2))\n",
    "print(range(len(list2)))"
   ]
  },
  {
   "cell_type": "code",
   "execution_count": null,
   "metadata": {
    "collapsed": true,
    "scrolled": true
   },
   "outputs": [],
   "source": [
    "# check if something in the list or not? \n",
    "print(10 in list2)"
   ]
  },
  {
   "cell_type": "code",
   "execution_count": null,
   "metadata": {
    "collapsed": true
   },
   "outputs": [],
   "source": [
    "# loop over all elements in a list\n",
    "for qwertyui in list2:\n",
    "    print (qwertyui)"
   ]
  },
  {
   "cell_type": "code",
   "execution_count": null,
   "metadata": {
    "collapsed": true,
    "scrolled": true
   },
   "outputs": [],
   "source": [
    "for qqqwweety in list2:\n",
    "    print (qqqwweety)"
   ]
  },
  {
   "cell_type": "markdown",
   "metadata": {},
   "source": [
    "#### two common list (manipulation) methods: append, and extend (*important*) "
   ]
  },
  {
   "cell_type": "code",
   "execution_count": null,
   "metadata": {
    "collapsed": true
   },
   "outputs": [],
   "source": [
    "# let's make two identical lists and compare the results \n",
    "list2 =  ['crunchy frog', 'ram bladder', 'lark vomit','harry potter', 'sun wu kong']\n",
    "list2a =  ['crunchy frog', 'ram bladder', 'lark vomit','harry potter', 'sun wu kong']"
   ]
  },
  {
   "cell_type": "code",
   "execution_count": null,
   "metadata": {
    "collapsed": true
   },
   "outputs": [],
   "source": [
    "# append\n",
    "list2.append(['transformers', 'hulu brothers', 'xiyangyang'])\n",
    "print(list2)"
   ]
  },
  {
   "cell_type": "code",
   "execution_count": null,
   "metadata": {
    "collapsed": true
   },
   "outputs": [],
   "source": [
    "# extend\n",
    "list2a.extend( ['transformers', 'hulu brothers', 'xiyangyang'] )\n",
    "print(list2a)"
   ]
  },
  {
   "cell_type": "code",
   "execution_count": null,
   "metadata": {
    "collapsed": true
   },
   "outputs": [],
   "source": [
    "print(len(list2))\n",
    "print(len(list2a)) "
   ]
  },
  {
   "cell_type": "markdown",
   "metadata": {},
   "source": [
    "### dictionaries \n",
    "(**important!** preparing for the JSON data management)"
   ]
  },
  {
   "cell_type": "code",
   "execution_count": null,
   "metadata": {
    "collapsed": true
   },
   "outputs": [],
   "source": [
    "# Dictionaries, there are several ways to create them\n",
    "\n",
    "# method 1. directly assignment. with {} denotation\n",
    "dic1 = {'one':1, 'two':2, 'three':3}\n",
    "print(dic1)"
   ]
  },
  {
   "cell_type": "code",
   "execution_count": null,
   "metadata": {
    "collapsed": true
   },
   "outputs": [],
   "source": [
    "# method 2. start with empty dictionary\n",
    "dic2 = {}\n",
    "dic2['one'] = 1\n",
    "dic2['two'] = 2\n",
    "dic2['three'] = 3\n",
    "print(dic2)\n",
    "print (dic2['two'])"
   ]
  },
  {
   "cell_type": "code",
   "execution_count": null,
   "metadata": {
    "collapsed": true
   },
   "outputs": [],
   "source": [
    "# method 3. create a list (with key - value pairs in it), then set the type as a dict \n",
    "list5 = [('key1', 1), ('key2', 2),('key3',3)]\n",
    "dict3 = dict(list5)\n",
    "print(dict3)\n",
    "# print (dic3['key3'])\n",
    "# print(type(list5))\n",
    "# print(type(dict3))"
   ]
  },
  {
   "cell_type": "code",
   "execution_count": null,
   "metadata": {
    "collapsed": true
   },
   "outputs": [],
   "source": [
    "# the elements of dict is mutable (changable...)\n",
    "print(dic2)\n",
    "dic2['three'] = 4 \n",
    "print(dic2)"
   ]
  },
  {
   "cell_type": "code",
   "execution_count": null,
   "metadata": {
    "collapsed": true
   },
   "outputs": [],
   "source": [
    "# the elements of dictionary is mutable (can be changed), BUT the key is NOT\n",
    "print(dic2)\n",
    "dic2['three'] = dic2['four']\n",
    "print(dic2)"
   ]
  },
  {
   "cell_type": "code",
   "execution_count": null,
   "metadata": {
    "collapsed": true
   },
   "outputs": [],
   "source": [
    "# traversing by key\n",
    "# because key is imutable, key can be number or string and can be used for indexing \n",
    "for k in dic2.keys():\n",
    "    print (k)"
   ]
  },
  {
   "cell_type": "markdown",
   "metadata": {},
   "source": [
    "### tuples "
   ]
  },
  {
   "cell_type": "code",
   "execution_count": null,
   "metadata": {
    "collapsed": true
   },
   "outputs": [],
   "source": [
    "# tuple = just like list, but immutable\n",
    "tuple1 = (10, 20, 30, 40)\n",
    "tuple2 = ('crunchy frog', 'ram bladder', 'lark vomit','harry potter', 'sun wu kong')\n",
    "tuple3 = ()\n",
    "tuple4 = (tuple1, 10, 20, 30, 'abc', 'def', ['n1, n2'], tuple2)\n",
    "\n",
    "print(tuple1, tuple2, tuple3, tuple4)"
   ]
  },
  {
   "cell_type": "code",
   "execution_count": null,
   "metadata": {
    "collapsed": true,
    "scrolled": true
   },
   "outputs": [],
   "source": [
    "tuple2[0] = \"change it to not frog\""
   ]
  },
  {
   "cell_type": "markdown",
   "metadata": {},
   "source": [
    "### Sets "
   ]
  },
  {
   "cell_type": "code",
   "execution_count": null,
   "metadata": {
    "collapsed": true
   },
   "outputs": [],
   "source": [
    "# Unordered collection of *unique* values; which are mutable and unordered \n",
    "set1 = {'crunchy frog', 'ram bladder', 'lark vomit','harry potter', 'sun wu kong'}\n",
    "set1"
   ]
  },
  {
   "cell_type": "code",
   "execution_count": null,
   "metadata": {
    "collapsed": true
   },
   "outputs": [],
   "source": [
    "set1[0]"
   ]
  },
  {
   "cell_type": "code",
   "execution_count": null,
   "metadata": {
    "collapsed": true
   },
   "outputs": [],
   "source": [
    "set1.remove('harry potter')\n",
    "set1"
   ]
  },
  {
   "cell_type": "code",
   "execution_count": null,
   "metadata": {
    "collapsed": true
   },
   "outputs": [],
   "source": [
    "set2 = set([1,2,3,3,3,4])\n",
    "print(set2) \n",
    "print(\"The length of the set is \", len(set2))\n",
    "\n",
    "set2.add(\"B\")\n",
    "print(set2)"
   ]
  },
  {
   "cell_type": "code",
   "execution_count": null,
   "metadata": {
    "collapsed": true
   },
   "outputs": [],
   "source": [
    "# common methods for sets: intersection, union, difference \n",
    "\n",
    "a_set = {1,2,3,4}\n",
    "b_set = {3,4,5,6}\n",
    "\n",
    "intersect_set = set.intersection(a_set, b_set) \n",
    "print(\"The intersection of a and b is \", intersect_set)\n",
    "\n",
    "union_set = set.union(a_set, b_set) \n",
    "print(\"The union of a and b is \", union_set)\n",
    "\n",
    "# pay attention to the order \n",
    "difference_set = a_set.difference(b_set) \n",
    "print(\"Set a is different from set b by \", difference_set)\n",
    "difference_set2 = b_set.difference(a_set)\n",
    "print(\"Set b is different from set a by \", difference_set2)\n"
   ]
  },
  {
   "cell_type": "code",
   "execution_count": null,
   "metadata": {
    "collapsed": true
   },
   "outputs": [],
   "source": []
  },
  {
   "cell_type": "markdown",
   "metadata": {},
   "source": [
    "-- Acknowledgement --\n",
    "\n",
    " - This notebook is compiled by Dr. Xinzhi Zhang at HKBU for a Python workshop in Nov 2018. \n",
    " - Some codes are modified from the GitHub repos: [Whirlwind Tour of Python](http://www.oreilly.com/programming/free/a-whirlwind-tour-of-python.csp) by Jake VanderPlas; the content is available [on GitHub](https://github.com/jakevdp/WhirlwindTourOfPython); [Python for Everybody](www.py4e.com) by Charles Severance, the [Python Official Documentation](https://docs.python.org/3/), and Berkerly U's [Data X project](https://data-x.blog/). The codes are released under the Creative Commons CC1.0. \n"
   ]
  },
  {
   "cell_type": "code",
   "execution_count": null,
   "metadata": {
    "collapsed": true
   },
   "outputs": [],
   "source": []
  }
 ],
 "metadata": {
  "kernelspec": {
   "display_name": "Python 3",
   "language": "python",
   "name": "python3"
  },
  "language_info": {
   "codemirror_mode": {
    "name": "ipython",
    "version": 3
   },
   "file_extension": ".py",
   "mimetype": "text/x-python",
   "name": "python",
   "nbconvert_exporter": "python",
   "pygments_lexer": "ipython3",
   "version": "3.6.1"
  },
  "toc": {
   "nav_menu": {},
   "number_sections": true,
   "sideBar": true,
   "skip_h1_title": false,
   "title_cell": "Table of Contents",
   "title_sidebar": "Contents",
   "toc_cell": false,
   "toc_position": {},
   "toc_section_display": true,
   "toc_window_display": false
  }
 },
 "nbformat": 4,
 "nbformat_minor": 2
}
