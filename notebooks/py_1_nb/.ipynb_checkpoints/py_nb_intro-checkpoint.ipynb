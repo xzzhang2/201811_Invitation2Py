{
 "cells": [
  {
   "cell_type": "markdown",
   "metadata": {},
   "source": [
    "# Python in a Notebook \n",
    "\n",
    "\n",
    "- CityU COM5507 201819A - Unit 1: Python in Action \n",
    "- 12 Sep 2018, Week 2: Python: A command liner's pespective\n",
    "- **19 Sep 2018, Week 3: Python in a Notebook**\n",
    "\n",
    "\n",
    "- Course Instructor: [Dr. Xinzhi Zhang](www.drxinzhizhang.com)  (JOUR, Hong Kong Baptist University) \n",
    "  - xzzhang2@gmail.com\n",
    "\n",
    "\n",
    "\n",
    "- **Content**\n",
    " 1. Executing a Python program\n",
    " 2. Markdown language in the Notebook \n",
    " 3. Fundamentals of cells and scripts\n",
    " 4. Recap: Python data types \n",
    " 5. Recap: Python data structures "
   ]
  },
  {
   "cell_type": "markdown",
   "metadata": {},
   "source": [
    "## Executing a Python program: CLI vs. Jupytyer Notebook\n",
    "\n",
    " - We have already demonstrated how to execute a Python program as a \"command liner\" in Week 2 (12 Sep 2018).  \n",
    " - This week we will tour around the Jupyter Notebook. \n",
    "\n",
    "\n",
    " - *The Jupyter Notebook is an open-source web application that allows you to create and share documents that contain live code, equations, visualizations and narrative text. Uses include: data cleaning and transformation, numerical simulation, statistical modeling, data visualization, machine learning, and much more.*  -- From the [Project Jupyter](https://jupyter.org/):\n",
    "\n",
    " - *It is a document format that allows executable code, formatted text, graphics, and even interactive features to be combined into a single document. *\n",
    "\n",
    "\n",
    "\n",
    " - Jupyter Notebook has two \"cell types\": **Markdown** and **Code**\n",
    "\n",
    " - To change cell type: \n",
    "\n",
    "![cell type](intro_celltype.png)"
   ]
  },
  {
   "cell_type": "markdown",
   "metadata": {},
   "source": [
    "## Markdown"
   ]
  },
  {
   "cell_type": "markdown",
   "metadata": {},
   "source": [
    " - Review: week 1's slide: **A quick guide to [Markdown language](https://github.com/adam-p/markdown-here/wiki/Markdown-Cheatsheet)**"
   ]
  },
  {
   "cell_type": "markdown",
   "metadata": {},
   "source": [
    "Some examples of markdown language\n",
    "\n",
    "# header level 1\n",
    "## header level 2\n",
    "### header level 3\n",
    "#### header level 4 \n",
    " \n",
    "- points \n",
    " - subpoints 1\n",
    " - subpoints 2\n",
    " \n",
    "\n",
    "- points \n",
    " - subpoints \n",
    "\n",
    "\n",
    "1. numbers \n",
    "1. numbers \n",
    "1. numbers\n",
    " \n",
    " \n",
    " *italic*\n",
    " \n",
    " **bold**\n",
    " \n",
    "inserting an [URL](about:blank) \n",
    "\n",
    "inserting a picture: ![this is the alternative text](image address.png)\n",
    "\n",
    "\n",
    "\n",
    "\n",
    "\n",
    "\n",
    "Python (or any other programming language) Code\n",
    "```python\n",
    "# simple adder function\n",
    "def adder(x,y):\n",
    "    return x+y\n",
    "```\n",
    "\n"
   ]
  },
  {
   "cell_type": "markdown",
   "metadata": {},
   "source": [
    "## Cell: the basic \"scripts\"  "
   ]
  },
  {
   "cell_type": "code",
   "execution_count": 188,
   "metadata": {
    "scrolled": true
   },
   "outputs": [
    {
     "name": "stdout",
     "output_type": "stream",
     "text": [
      "total 608\r\n",
      "-rw-r--r--@ 1 xzzhang2  staff   90927 Sep 17 16:00 intro_celltype.png\r\n",
      "-rw-r--r--@ 1 xzzhang2  staff  188255 Sep 17 17:27 intro_pydatastruc.png\r\n",
      "-rw-r--r--  1 xzzhang2  staff   27839 Sep 17 17:52 py_nb_intro.ipynb\r\n"
     ]
    }
   ],
   "source": [
    "# CLI here (!) \n",
    "!ls -l # the same as what you are doing in CLI"
   ]
  },
  {
   "cell_type": "code",
   "execution_count": 189,
   "metadata": {
    "scrolled": true
   },
   "outputs": [
    {
     "name": "stdout",
     "output_type": "stream",
     "text": [
      "Mon Sep 17 17:52:46 HKT 2018\r\n"
     ]
    }
   ],
   "source": [
    "!date"
   ]
  },
  {
   "cell_type": "code",
   "execution_count": 190,
   "metadata": {},
   "outputs": [
    {
     "name": "stdout",
     "output_type": "stream",
     "text": [
      "/Users/xzzhang2/201809_com5507/py_nb\r\n"
     ]
    }
   ],
   "source": [
    "!pwd"
   ]
  },
  {
   "cell_type": "code",
   "execution_count": 191,
   "metadata": {},
   "outputs": [],
   "source": [
    "import this"
   ]
  },
  {
   "cell_type": "code",
   "execution_count": 192,
   "metadata": {},
   "outputs": [
    {
     "name": "stdout",
     "output_type": "stream",
     "text": [
      "Hello World\n"
     ]
    }
   ],
   "source": [
    "# print - comments are written in this way\n",
    "print(\"Hello World\") "
   ]
  },
  {
   "cell_type": "code",
   "execution_count": 193,
   "metadata": {},
   "outputs": [
    {
     "data": {
      "text/plain": [
       "2"
      ]
     },
     "execution_count": 193,
     "metadata": {},
     "output_type": "execute_result"
    }
   ],
   "source": [
    "# as a calculator \n",
    "1 + 1"
   ]
  },
  {
   "cell_type": "code",
   "execution_count": 194,
   "metadata": {
    "scrolled": true
   },
   "outputs": [
    {
     "name": "stdout",
     "output_type": "stream",
     "text": [
      "please input the rate: 69.3\n",
      "please input the working hours: 222\n",
      "15384.599999999999\n"
     ]
    }
   ],
   "source": [
    "# input as a calculator \n",
    "rate = input('please input the rate: ')\n",
    "hours = input('please input the working hours: ')\n",
    "salary = float(rate) * float(hours) \n",
    "print(salary)"
   ]
  },
  {
   "cell_type": "code",
   "execution_count": 195,
   "metadata": {},
   "outputs": [
    {
     "data": {
      "text/plain": [
       "11"
      ]
     },
     "execution_count": 195,
     "metadata": {},
     "output_type": "execute_result"
    }
   ],
   "source": [
    "# Lines are executed sequentially\n",
    "# However, a cell displays output of last line. \n",
    "1 + 1\n",
    "1 + 2\n",
    "5 + 6"
   ]
  },
  {
   "cell_type": "code",
   "execution_count": 196,
   "metadata": {
    "scrolled": false
   },
   "outputs": [
    {
     "name": "stdout",
     "output_type": "stream",
     "text": [
      "2\n",
      "3\n",
      "11\n"
     ]
    }
   ],
   "source": [
    "# unless you want all the outputs \n",
    "print(1 + 1)\n",
    "print(1 + 2)\n",
    "print(5 + 6)"
   ]
  },
  {
   "cell_type": "code",
   "execution_count": 197,
   "metadata": {},
   "outputs": [
    {
     "name": "stdout",
     "output_type": "stream",
     "text": [
      "8\n",
      "15\n",
      "125\n",
      "2\n"
     ]
    }
   ],
   "source": [
    "# expressions \n",
    "a = 3\n",
    "b = 5\n",
    "\n",
    "print (a+b)\n",
    "print (a*b)\n",
    "\n",
    "print (b**a) # ** is exponentiation\n",
    "print (b%a) # %% is remainder "
   ]
  },
  {
   "cell_type": "markdown",
   "metadata": {},
   "source": [
    "## Recap: python data types "
   ]
  },
  {
   "cell_type": "code",
   "execution_count": 198,
   "metadata": {},
   "outputs": [
    {
     "name": "stdout",
     "output_type": "stream",
     "text": [
      "this is int 5\n",
      "what about this? 5\n",
      "this is float 5.999998\n",
      "what about this 5.0\n",
      "(1+2j)\n",
      "False\n",
      "True\n"
     ]
    }
   ],
   "source": [
    "# Python data types \n",
    "\n",
    "# 1. int\n",
    "print('this is int', int(5))  \n",
    "print('what about this?', int(5.999998))  \n",
    "\n",
    "# 2. float \n",
    "print('this is float', float(5.999998))  \n",
    "print('what about this', float(5))  \n",
    "\n",
    "# 3. complex: complex (real, imaginary)\n",
    "print(complex (1,2)) \n",
    "\n",
    "# 4. boolean  \n",
    "a = True\n",
    "b = False\n",
    "c = True\n",
    "print (a and b)\n",
    "print (a or b)\n",
    "\n",
    "# 5. None type "
   ]
  },
  {
   "cell_type": "code",
   "execution_count": 142,
   "metadata": {},
   "outputs": [
    {
     "name": "stdout",
     "output_type": "stream",
     "text": [
      "\n",
      "One pill makes you larger,\n",
      "and one pill makes you small; \n",
      "And the ones that mother gives you, \n",
      "don't do anything at all, \n",
      "Go ask Alice, \n",
      "when she's ten feet tall, \n",
      "And if you go chasing rabbits, \n",
      "and you know you're going to fall;\n",
      "Tell 'em a hookah-smoking caterpillar has given you the call, \n",
      "And call Alice, \n",
      "when she was just small, \n",
      "\n"
     ]
    }
   ],
   "source": [
    "# 6. strings \n",
    "# Triple quotes are useful for multiple line strings\n",
    "y = '''\n",
    "One pill makes you larger,\n",
    "and one pill makes you small; \n",
    "And the ones that mother gives you, \n",
    "don't do anything at all, \n",
    "Go ask Alice, \n",
    "when she's ten feet tall, \n",
    "And if you go chasing rabbits, \n",
    "and you know you're going to fall;\n",
    "Tell 'em a hookah-smoking caterpillar has given you the call, \n",
    "And call Alice, \n",
    "when she was just small, \n",
    "'''\n",
    "print (y)"
   ]
  },
  {
   "cell_type": "code",
   "execution_count": 143,
   "metadata": {},
   "outputs": [
    {
     "data": {
      "text/plain": [
       "\"\\nONE PILL MAKES YOU LARGER,\\nAND ONE PILL MAKES YOU SMALL; \\nAND THE ONES THAT MOTHER GIVES YOU, \\nDON'T DO ANYTHING AT ALL, \\nGO ASK ALICE, \\nWHEN SHE'S TEN FEET TALL, \\nAND IF YOU GO CHASING RABBITS, \\nAND YOU KNOW YOU'RE GOING TO FALL;\\nTELL 'EM A HOOKAH-SMOKING CATERPILLAR HAS GIVEN YOU THE CALL, \\nAND CALL ALICE, \\nWHEN SHE WAS JUST SMALL, \\n\""
      ]
     },
     "execution_count": 143,
     "metadata": {},
     "output_type": "execute_result"
    }
   ],
   "source": [
    "y.upper()"
   ]
  },
  {
   "cell_type": "code",
   "execution_count": 144,
   "metadata": {},
   "outputs": [
    {
     "name": "stdout",
     "output_type": "stream",
     "text": [
      "['\\nOne', 'pill', 'makes', 'you', 'larger,\\nand', 'one', 'pill', 'makes', 'you', 'small;', '\\nAnd', 'the', 'ones', 'that', 'mother', 'gives', 'you,', \"\\ndon't\", 'do', 'anything', 'at', 'all,', '\\nGo', 'ask', 'Alice,', '\\nwhen', \"she's\", 'ten', 'feet', 'tall,', '\\nAnd', 'if', 'you', 'go', 'chasing', 'rabbits,', '\\nand', 'you', 'know', \"you're\", 'going', 'to', 'fall;\\nTell', \"'em\", 'a', 'hookah-smoking', 'caterpillar', 'has', 'given', 'you', 'the', 'call,', '\\nAnd', 'call', 'Alice,', '\\nwhen', 'she', 'was', 'just', 'small,', '\\n']\n"
     ]
    }
   ],
   "source": [
    "# 5a. more on strings: String operators and methods\n",
    "\n",
    "# tokenize by space\n",
    "words = y.split(' ')\n",
    "print (words)"
   ]
  },
  {
   "cell_type": "code",
   "execution_count": 145,
   "metadata": {},
   "outputs": [
    {
     "name": "stdout",
     "output_type": "stream",
     "text": [
      "['\\nOne pill makes you larger', '\\nand one pill makes you small; \\nAnd the ones that mother gives you', \" \\ndon't do anything at all\", ' \\nGo ask Alice', \" \\nwhen she's ten feet tall\", ' \\nAnd if you go chasing rabbits', \" \\nand you know you're going to fall;\\nTell 'em a hookah-smoking caterpillar has given you the call\", ' \\nAnd call Alice', ' \\nwhen she was just small', ' \\n']\n"
     ]
    }
   ],
   "source": [
    "# tokenize by comma \n",
    "words = y.split(',')\n",
    "print (words)"
   ]
  },
  {
   "cell_type": "code",
   "execution_count": 146,
   "metadata": {},
   "outputs": [
    {
     "data": {
      "text/plain": [
       "['One pill makes you larger',\n",
       " 'and one pill makes you small; And the ones that mother gives you',\n",
       " \" don't do anything at all\",\n",
       " ' Go ask Alice',\n",
       " \" when she's ten feet tall\",\n",
       " ' And if you go chasing rabbits',\n",
       " \" and you know you're going to fall;Tell 'em a hookah-smoking caterpillar has given you the call\",\n",
       " ' And call Alice',\n",
       " ' when she was just small',\n",
       " ' ']"
      ]
     },
     "execution_count": 146,
     "metadata": {},
     "output_type": "execute_result"
    }
   ],
   "source": [
    "# remove break line character\n",
    "[w.replace('\\n','') for w in words]"
   ]
  },
  {
   "cell_type": "code",
   "execution_count": 147,
   "metadata": {},
   "outputs": [
    {
     "data": {
      "text/plain": [
       "['\\nOne pill makes me larger',\n",
       " '\\nand one pill makes me small; \\nAnd the ones that mother gives me',\n",
       " \" \\ndon't do anything at all\",\n",
       " ' \\nGo ask Alice',\n",
       " \" \\nwhen she's ten feet tall\",\n",
       " ' \\nAnd if me go chasing rabbits',\n",
       " \" \\nand me know me're going to fall;\\nTell 'em a hookah-smoking caterpillar has given me the call\",\n",
       " ' \\nAnd call Alice',\n",
       " ' \\nwhen she was just small',\n",
       " ' \\n']"
      ]
     },
     "execution_count": 147,
     "metadata": {},
     "output_type": "execute_result"
    }
   ],
   "source": [
    "# remove more \n",
    "[w.replace('you','me') for w in words]"
   ]
  },
  {
   "cell_type": "code",
   "execution_count": 148,
   "metadata": {},
   "outputs": [
    {
     "data": {
      "text/plain": [
       "str"
      ]
     },
     "execution_count": 148,
     "metadata": {},
     "output_type": "execute_result"
    }
   ],
   "source": [
    "# always check the types \n",
    "type(\"the type is...\")"
   ]
  },
  {
   "cell_type": "markdown",
   "metadata": {},
   "source": [
    "## Recap: Python data structures "
   ]
  },
  {
   "cell_type": "markdown",
   "metadata": {},
   "source": [
    "![python data stru](intro_pydatastruc.png)"
   ]
  },
  {
   "cell_type": "markdown",
   "metadata": {},
   "source": [
    "### Lists "
   ]
  },
  {
   "cell_type": "code",
   "execution_count": 170,
   "metadata": {},
   "outputs": [
    {
     "name": "stdout",
     "output_type": "stream",
     "text": [
      "[10, 20, 30, 40]\n",
      "['crunchy frog', 'ram bladder', 'lark vomit', 'harry potter', 'sun wu kong']\n",
      "[]\n",
      "[[10, 20, 30, 40], 10, 20, 30, 'abc', 'def', ['n1, n2']]\n"
     ]
    }
   ],
   "source": [
    "# python data structures\n",
    "\n",
    "# 1. lists \n",
    "# lists: integers, strings, empty, and nested lists\n",
    "\n",
    "list1 = [10, 20, 30, 40]\n",
    "list2 = ['crunchy frog', 'ram bladder', 'lark vomit','harry potter', 'sun wu kong']\n",
    "list3 = [] # important\n",
    "list4 = [list1, 10, 20, 30, 'abc', 'def', ['n1, n2'] ]\n",
    "\n",
    "print(list1)\n",
    "print(list2)\n",
    "print(list3)\n",
    "print(list4)\n"
   ]
  },
  {
   "cell_type": "code",
   "execution_count": 150,
   "metadata": {
    "scrolled": true
   },
   "outputs": [
    {
     "name": "stdout",
     "output_type": "stream",
     "text": [
      "before: ['crunchy frog', 'ram bladder', 'lark vomit', 'harry potter', 'sun wu kong']\n",
      "after: ['crunchy frog', 'ram bladder', 'another guy not lark vomit', 'harry potter', 'sun wu kong']\n"
     ]
    }
   ],
   "source": [
    "# Lists are mutable (\"changable\")\n",
    "\n",
    "# changing an element in the list \n",
    "print(\"before:\" , list2)\n",
    "\n",
    "list2[2] = 'another guy not lark vomit'\n",
    "\n",
    "print(\"after:\" , list2)"
   ]
  },
  {
   "cell_type": "code",
   "execution_count": 151,
   "metadata": {
    "scrolled": false
   },
   "outputs": [
    {
     "name": "stdout",
     "output_type": "stream",
     "text": [
      "[20, 40, 60, 80]\n"
     ]
    }
   ],
   "source": [
    "# traversing a list\n",
    "# for numerics\n",
    "for i in range(len(list1)):\n",
    "    list1[i] = list1[i] * 2\n",
    "print(list1)"
   ]
  },
  {
   "cell_type": "code",
   "execution_count": 152,
   "metadata": {},
   "outputs": [
    {
     "name": "stdout",
     "output_type": "stream",
     "text": [
      "ram bladder\n",
      "another guy not lark vomit\n",
      "ram bladder\n"
     ]
    }
   ],
   "source": [
    "# indexing a list\n",
    "list2[1] # zero indexing\n",
    "print(list2[1])\n",
    "print(list2[-3])\n",
    "print(list2[-4])"
   ]
  },
  {
   "cell_type": "code",
   "execution_count": 153,
   "metadata": {},
   "outputs": [
    {
     "name": "stdout",
     "output_type": "stream",
     "text": [
      "[20, 40, 60, 80, 'crunchy frog', 'ram bladder', 'another guy not lark vomit', 'harry potter', 'sun wu kong']\n"
     ]
    }
   ],
   "source": [
    "# concatenating\n",
    "list_1_2 = list1 + list2\n",
    "print(list_1_2)\n"
   ]
  },
  {
   "cell_type": "code",
   "execution_count": 154,
   "metadata": {},
   "outputs": [
    {
     "name": "stdout",
     "output_type": "stream",
     "text": [
      "['crunchy frog', 'ram bladder', 'another guy not lark vomit']\n",
      "['crunchy frog', 'ram bladder', 'another guy not lark vomit', 'harry potter', 'sun wu kong']\n",
      "['crunchy frog', 'ram bladder', 'another guy not lark vomit']\n"
     ]
    }
   ],
   "source": [
    "# slicing\n",
    "print(list2[0:3])\n",
    "print(list2[0:])\n",
    "print(list2[:3])\n"
   ]
  },
  {
   "cell_type": "code",
   "execution_count": 155,
   "metadata": {},
   "outputs": [
    {
     "name": "stdout",
     "output_type": "stream",
     "text": [
      "[20, 60, 'crunchy frog', 'another guy not lark vomit', 'sun wu kong']\n"
     ]
    }
   ],
   "source": [
    "print (list_1_2[0:10:2]) # start:stop:step"
   ]
  },
  {
   "cell_type": "code",
   "execution_count": 156,
   "metadata": {},
   "outputs": [
    {
     "name": "stdout",
     "output_type": "stream",
     "text": [
      "['sun wu kong', 'harry potter', 'another guy not lark vomit', 'ram bladder', 'crunchy frog']\n"
     ]
    }
   ],
   "source": [
    "# reversing\n",
    "print(list2[::-1])"
   ]
  },
  {
   "cell_type": "code",
   "execution_count": 157,
   "metadata": {},
   "outputs": [
    {
     "name": "stdout",
     "output_type": "stream",
     "text": [
      "5\n",
      "range(0, 5)\n"
     ]
    }
   ],
   "source": [
    "# checking the list\n",
    "# how long is the list? len()\n",
    "print(len(list2))\n",
    "print(range(len(list2)))"
   ]
  },
  {
   "cell_type": "code",
   "execution_count": 158,
   "metadata": {
    "scrolled": true
   },
   "outputs": [
    {
     "name": "stdout",
     "output_type": "stream",
     "text": [
      "False\n"
     ]
    }
   ],
   "source": [
    "# check if something in the list or not? \n",
    "print(10 in list2)"
   ]
  },
  {
   "cell_type": "code",
   "execution_count": 159,
   "metadata": {},
   "outputs": [
    {
     "name": "stdout",
     "output_type": "stream",
     "text": [
      "crunchy frog\n",
      "ram bladder\n",
      "another guy not lark vomit\n",
      "harry potter\n",
      "sun wu kong\n"
     ]
    }
   ],
   "source": [
    "# loop over all elements in a list\n",
    "for i in list2:\n",
    "    print (i)"
   ]
  },
  {
   "cell_type": "code",
   "execution_count": 160,
   "metadata": {},
   "outputs": [
    {
     "name": "stdout",
     "output_type": "stream",
     "text": [
      "crunchy frog\n",
      "ram bladder\n",
      "another guy not lark vomit\n",
      "harry potter\n",
      "sun wu kong\n"
     ]
    }
   ],
   "source": [
    "for asdfasdfasdfasdfqawer5q32453245 in list2:\n",
    "    print (asdfasdfasdfasdfqawer5q32453245)"
   ]
  },
  {
   "cell_type": "markdown",
   "metadata": {},
   "source": [
    "### dictionaries \n",
    "(**important!** preparing for the JSON data management)\n"
   ]
  },
  {
   "cell_type": "code",
   "execution_count": 115,
   "metadata": {},
   "outputs": [
    {
     "name": "stdout",
     "output_type": "stream",
     "text": [
      "{'one': 1, 'two': 2, 'three': 3}\n"
     ]
    }
   ],
   "source": [
    "# Dictionaries, there are several ways to create them\n",
    "\n",
    "# method 1. directly assignment. with {} denotation\n",
    "dic1 = {'one':1, 'two':2, 'three':3}\n",
    "print(dic1)"
   ]
  },
  {
   "cell_type": "code",
   "execution_count": 121,
   "metadata": {},
   "outputs": [
    {
     "name": "stdout",
     "output_type": "stream",
     "text": [
      "{'one': 1, 'two': 2, 'three': 3}\n",
      "2\n"
     ]
    }
   ],
   "source": [
    "# method 2. start with empty dictionary\n",
    "dic2 = {}\n",
    "dic2['one'] = 1\n",
    "dic2['two'] = 2\n",
    "dic2['three'] = 3\n",
    "print(dic2)\n",
    "print (dic2['two'])"
   ]
  },
  {
   "cell_type": "code",
   "execution_count": 128,
   "metadata": {},
   "outputs": [
    {
     "name": "stdout",
     "output_type": "stream",
     "text": [
      "{'key1': 1, 'key2': 2, 'key3': 3}\n"
     ]
    },
    {
     "data": {
      "text/plain": [
       "dict"
      ]
     },
     "execution_count": 128,
     "metadata": {},
     "output_type": "execute_result"
    }
   ],
   "source": [
    "# method 3. create a list (with key - value pairs in it), then set the type as a dict \n",
    "list5 = [('key1', 1), ('key2', 2),('key3',3)]\n",
    "dict3 = dict(list5)\n",
    "print(dict3)\n",
    "# print (dic3['key3'])\n",
    "# print(type(list5))\n",
    "# print(type(dict3))"
   ]
  },
  {
   "cell_type": "code",
   "execution_count": null,
   "metadata": {
    "collapsed": true
   },
   "outputs": [],
   "source": [
    "# the elements of dict is mutable\n",
    "print(dic2)\n",
    "dic2['three'] = 4 \n",
    "print(dic2)"
   ]
  },
  {
   "cell_type": "code",
   "execution_count": 124,
   "metadata": {},
   "outputs": [
    {
     "name": "stdout",
     "output_type": "stream",
     "text": [
      "{'one': 1, 'two': 2, 'three': 'four'}\n",
      "{'one': 1, 'two': 2, 'three': 4}\n"
     ]
    }
   ],
   "source": [
    "# the elements of dictionary is mutable (can be changed), BUT the key is NOT\n",
    "print(dic2)\n",
    "dic2['three'] = dic2['four']\n",
    "print(dic2)\n"
   ]
  },
  {
   "cell_type": "code",
   "execution_count": null,
   "metadata": {
    "collapsed": true
   },
   "outputs": [],
   "source": [
    "# traversing by key\n",
    "# because key is imutable, key can be number or string and can be used for indexing \n",
    "for k in dic2.keys():\n",
    "    print (k)"
   ]
  },
  {
   "cell_type": "markdown",
   "metadata": {},
   "source": [
    "### tuples "
   ]
  },
  {
   "cell_type": "code",
   "execution_count": 131,
   "metadata": {},
   "outputs": [
    {
     "name": "stdout",
     "output_type": "stream",
     "text": [
      "(10, 20, 30, 40) ('crunchy frog', 'ram bladder', 'lark vomit', 'harry potter', 'sun wu kong') () ((10, 20, 30, 40), 10, 20, 30, 'abc', 'def', ['n1, n2'], ('crunchy frog', 'ram bladder', 'lark vomit', 'harry potter', 'sun wu kong'))\n"
     ]
    }
   ],
   "source": [
    "# tuple = just like list, but immutable\n",
    "tuple1 = (10, 20, 30, 40)\n",
    "tuple2 = ('crunchy frog', 'ram bladder', 'lark vomit','harry potter', 'sun wu kong')\n",
    "tuple3 = ()\n",
    "tuple4 = (tuple1, 10, 20, 30, 'abc', 'def', ['n1, n2'], tuple2)\n",
    "\n",
    "print(tuple1, tuple2, tuple3, tuple4)"
   ]
  },
  {
   "cell_type": "code",
   "execution_count": 132,
   "metadata": {
    "scrolled": true
   },
   "outputs": [
    {
     "ename": "TypeError",
     "evalue": "'tuple' object does not support item assignment",
     "output_type": "error",
     "traceback": [
      "\u001b[0;31m---------------------------------------------------------------------------\u001b[0m",
      "\u001b[0;31mTypeError\u001b[0m                                 Traceback (most recent call last)",
      "\u001b[0;32m<ipython-input-132-4a587306f291>\u001b[0m in \u001b[0;36m<module>\u001b[0;34m()\u001b[0m\n\u001b[0;32m----> 1\u001b[0;31m \u001b[0mtuple2\u001b[0m\u001b[0;34m[\u001b[0m\u001b[0;36m0\u001b[0m\u001b[0;34m]\u001b[0m \u001b[0;34m=\u001b[0m \u001b[0;34m\"change it to not frog\"\u001b[0m\u001b[0;34m\u001b[0m\u001b[0m\n\u001b[0m",
      "\u001b[0;31mTypeError\u001b[0m: 'tuple' object does not support item assignment"
     ]
    }
   ],
   "source": [
    "tuple2[0] = \"change it to not frog\""
   ]
  },
  {
   "cell_type": "markdown",
   "metadata": {},
   "source": [
    "### Sets "
   ]
  },
  {
   "cell_type": "code",
   "execution_count": 183,
   "metadata": {},
   "outputs": [
    {
     "data": {
      "text/plain": [
       "{'crunchy frog', 'harry potter', 'lark vomit', 'ram bladder', 'sun wu kong'}"
      ]
     },
     "execution_count": 183,
     "metadata": {},
     "output_type": "execute_result"
    }
   ],
   "source": [
    "# Unordered collection of unique values, mutable, unordered \n",
    "set1 = {'crunchy frog', 'ram bladder', 'lark vomit','harry potter', 'sun wu kong'}\n",
    "set1"
   ]
  },
  {
   "cell_type": "code",
   "execution_count": 184,
   "metadata": {},
   "outputs": [
    {
     "ename": "TypeError",
     "evalue": "'set' object does not support indexing",
     "output_type": "error",
     "traceback": [
      "\u001b[0;31m---------------------------------------------------------------------------\u001b[0m",
      "\u001b[0;31mTypeError\u001b[0m                                 Traceback (most recent call last)",
      "\u001b[0;32m<ipython-input-184-c38563f1af7a>\u001b[0m in \u001b[0;36m<module>\u001b[0;34m()\u001b[0m\n\u001b[0;32m----> 1\u001b[0;31m \u001b[0mset1\u001b[0m\u001b[0;34m[\u001b[0m\u001b[0;36m0\u001b[0m\u001b[0;34m]\u001b[0m\u001b[0;34m\u001b[0m\u001b[0m\n\u001b[0m",
      "\u001b[0;31mTypeError\u001b[0m: 'set' object does not support indexing"
     ]
    }
   ],
   "source": [
    "set1[0]"
   ]
  },
  {
   "cell_type": "code",
   "execution_count": 186,
   "metadata": {
    "collapsed": true
   },
   "outputs": [],
   "source": [
    "set1.remove('harry potter')"
   ]
  },
  {
   "cell_type": "code",
   "execution_count": 187,
   "metadata": {},
   "outputs": [
    {
     "data": {
      "text/plain": [
       "{'crunchy frog', 'lark vomit', 'ram bladder', 'sun wu kong'}"
      ]
     },
     "execution_count": 187,
     "metadata": {},
     "output_type": "execute_result"
    }
   ],
   "source": [
    "set1"
   ]
  },
  {
   "cell_type": "code",
   "execution_count": null,
   "metadata": {
    "collapsed": true
   },
   "outputs": [],
   "source": []
  }
 ],
 "metadata": {
  "kernelspec": {
   "display_name": "Python 3",
   "language": "python",
   "name": "python3"
  },
  "language_info": {
   "codemirror_mode": {
    "name": "ipython",
    "version": 3
   },
   "file_extension": ".py",
   "mimetype": "text/x-python",
   "name": "python",
   "nbconvert_exporter": "python",
   "pygments_lexer": "ipython3",
   "version": "3.6.1"
  },
  "toc": {
   "nav_menu": {},
   "number_sections": true,
   "sideBar": true,
   "skip_h1_title": false,
   "title_cell": "Table of Contents",
   "title_sidebar": "Contents",
   "toc_cell": false,
   "toc_position": {},
   "toc_section_display": true,
   "toc_window_display": false
  }
 },
 "nbformat": 4,
 "nbformat_minor": 2
}
