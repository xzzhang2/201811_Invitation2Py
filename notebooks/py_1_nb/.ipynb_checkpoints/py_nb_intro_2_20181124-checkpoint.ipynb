{
 "cells": [
  {
   "cell_type": "markdown",
   "metadata": {},
   "source": [
    "# Invitation to Python: Python in a Notebook (2/2) \n",
    "\n",
    "- **Date & Venue**: 24 Nov 2018, CVA Lab 702\n",
    "\n",
    "- **Course Instructor**: Dr. Xinzhi Zhang (JOUR, Hong Kong Baptist University)\n",
    " - xzzhang2@gmail.com\n",
    " - www.drxinzhizhang.com\n",
    " - https://github.com/xzzhang2\n",
    " - @xin_zhi_zhang\n",
    " - https://scholar.google.com.hk/citations?user=iOFeIDIAAAAJ&hl=en \n",
    "\n",
    "\n",
    "- **Agenda**\n",
    " 1. Control flow statements and indentation\n",
    " 2. Conditions \n",
    " 3. Loops \n",
    " 4. Functions "
   ]
  },
  {
   "cell_type": "code",
   "execution_count": null,
   "metadata": {
    "collapsed": true
   },
   "outputs": [],
   "source": []
  },
  {
   "cell_type": "markdown",
   "metadata": {},
   "source": [
    "# Control flow"
   ]
  },
  {
   "cell_type": "markdown",
   "metadata": {},
   "source": [
    "Control flow is where “the rubber really meets the road in programming.”\n",
    "\n",
    "With control flow, you can execute certain code blocks conditionally and/or repeatedly: these basic building blocks can be combined to create sophisticated programs. \n",
    "\n",
    " - conditional statements (```if```, ```elif```, and ```else```)\n",
    " - loop statements (```for``` and ```while``` plus the accompanying ```break```, ```continue```, and ```pass```)\n",
    " \n",
    "More info can be found (officially) here: https://docs.python.org/3/tutorial/controlflow.html"
   ]
  },
  {
   "cell_type": "markdown",
   "metadata": {},
   "source": [
    "One basic issue to study the control flow statement is the **comparison operators** (or the Boolean expressions, to be precise) \n",
    "\n",
    "![comparision operators](intro_comp_operators.png) "
   ]
  },
  {
   "cell_type": "markdown",
   "metadata": {},
   "source": [
    "## Conditional statements \n",
    "\n",
    "Conditional statements, often referred to as *if-then* statements, allow the programmer to execute certain pieces of code depending on some Boolean condition."
   ]
  },
  {
   "cell_type": "markdown",
   "metadata": {},
   "source": [
    "### Indentation\n",
    "- The syntax for control structures in Python use **colons** (:) and **indentation**.\n",
    "- This is perhaps one of the most distinctive features of Python. \n",
    "- The purpose of indentation to mark **blocks** of code.\n",
    "\n",
    "- It is important to pay attention to indentation in programming. Please read [this article](https://blog.programminghub.io/blog/2017/06/07/importance-indentation-programming/) "
   ]
  },
  {
   "cell_type": "markdown",
   "metadata": {},
   "source": [
    "### One-way decisions"
   ]
  },
  {
   "cell_type": "code",
   "execution_count": null,
   "metadata": {
    "collapsed": true
   },
   "outputs": [],
   "source": [
    "x = 5\n",
    "if x < 10:\n",
    "    print('Smaller')\n",
    "if x > 20:\n",
    "    print('Bigger')\n",
    "\n",
    "print('Finish')\n"
   ]
  },
  {
   "cell_type": "markdown",
   "metadata": {},
   "source": [
    "**Note**: the use of colons (``:``) and whitespace to denote separate blocks of code."
   ]
  },
  {
   "cell_type": "markdown",
   "metadata": {},
   "source": [
    "### Nested decisions"
   ]
  },
  {
   "cell_type": "code",
   "execution_count": null,
   "metadata": {
    "collapsed": true
   },
   "outputs": [],
   "source": [
    "x = 42\n",
    "if x > 1 :\n",
    "    print('More than one')\n",
    "    if x < 100 : \n",
    "        print('Less than 100') \n",
    "print('All done')\n"
   ]
  },
  {
   "cell_type": "markdown",
   "metadata": {},
   "source": [
    "### Two-way decisions (alternative execution): else "
   ]
  },
  {
   "cell_type": "code",
   "execution_count": null,
   "metadata": {
    "collapsed": true
   },
   "outputs": [],
   "source": [
    "x = 4\n",
    "\n",
    "if x > 2: \n",
    "    print('Bigger')\n",
    "else: \n",
    "    print('Smaller')\n",
    "\n",
    "print('All done')\n"
   ]
  },
  {
   "cell_type": "markdown",
   "metadata": {},
   "source": [
    "### Multi-way decisions: elif  "
   ]
  },
  {
   "cell_type": "code",
   "execution_count": null,
   "metadata": {
    "collapsed": true
   },
   "outputs": [],
   "source": [
    "x = 1\n",
    "if x < 2 :\n",
    "    print('small')\n",
    "elif x < 10 :\n",
    "    print('Medium')\n",
    "elif x < 20 :\n",
    "    print('BIGGer')\n",
    "else :\n",
    "    print('LARGE')\n",
    "print('All done')\n"
   ]
  },
  {
   "cell_type": "markdown",
   "metadata": {},
   "source": [
    "Note: \n",
    "\n",
    "- Python adopts the ``if`` and ``else`` often used in other languages; its more unique keyword is ``elif``, a contraction of \"else if\".\n",
    "- One can include as few or as many ``elif`` statements as you would like.\n",
    "- There is no limit on the number of elif statements. If there is an else clause, it has to be at the end, but there doesn’t have to be one. "
   ]
  },
  {
   "cell_type": "markdown",
   "metadata": {},
   "source": [
    "### The try/except structure"
   ]
  },
  {
   "cell_type": "code",
   "execution_count": null,
   "metadata": {
    "collapsed": true
   },
   "outputs": [],
   "source": [
    "rawstr = input('Enter a number:')\n",
    "try:\n",
    "    ival = int(rawstr)\n",
    "except:\n",
    "    ival = -1\n",
    "\n",
    "if ival > 0 :\n",
    "    print('Nice work')\n",
    "else:\n",
    "    print('This is not a number. Enter again. ')"
   ]
  },
  {
   "cell_type": "code",
   "execution_count": null,
   "metadata": {
    "collapsed": true
   },
   "outputs": [],
   "source": [
    "# check the input type \n",
    "while True:\n",
    "    try:\n",
    "        x = int(input(\"Please enter a number: \"))\n",
    "        print(\"this is the number: \", x)\n",
    "        break\n",
    "    except ValueError:\n",
    "        print(\"Oops!  That was no valid number.  Try again   \")\n",
    "        break "
   ]
  },
  {
   "cell_type": "code",
   "execution_count": null,
   "metadata": {
    "collapsed": true
   },
   "outputs": [],
   "source": []
  },
  {
   "cell_type": "markdown",
   "metadata": {},
   "source": [
    "## Loops \n",
    "\n",
    "Computers are good at doing repetitive work. \n",
    " - ```for``` loops\n",
    " - ```while``` loops\n",
    " - ```break``` and ```continue``` \n"
   ]
  },
  {
   "cell_type": "markdown",
   "metadata": {},
   "source": [
    "### ``for`` loops\n",
    "\n",
    "Loops in Python are a way to repeatedly execute some code statement.\n",
    "\n",
    "For example, if we'd like to print each of the items in a list, we can use a ``for`` loop:"
   ]
  },
  {
   "cell_type": "code",
   "execution_count": null,
   "metadata": {
    "collapsed": true
   },
   "outputs": [],
   "source": [
    "list2 = ['crunchy frog', 'ram bladder', 'lark vomit', 'harry potter', 'sun wu kong']\n",
    "\n",
    "for i in list2:\n",
    "    print(i, end=';') # print all on same line, or \";\""
   ]
  },
  {
   "cell_type": "code",
   "execution_count": null,
   "metadata": {
    "collapsed": true
   },
   "outputs": [],
   "source": [
    "text = 'cat'\n",
    "\n",
    "for dog in text: \n",
    "    print(dog)"
   ]
  },
  {
   "cell_type": "markdown",
   "metadata": {},
   "source": [
    "Notice the simplicity of the ``for`` loop: we specify the variable we want to use, the sequence we want to loop over, and use the \"``in``\" operator to link them together. \n",
    "\n",
    "More precisely, the object to the right of the \"``in``\" can be any Python *iterator*.\n",
    "\n",
    "For example, one of the most commonly-used iterators in Python is the ``range`` object, which generates a sequence of numbers: "
   ]
  },
  {
   "cell_type": "code",
   "execution_count": null,
   "metadata": {
    "collapsed": true
   },
   "outputs": [],
   "source": [
    "for i in range(20):\n",
    "    print(i) # starting from zero \n",
    "    # print(i+1) "
   ]
  },
  {
   "cell_type": "markdown",
   "metadata": {},
   "source": [
    "### ```for``` loops application: find the prime number "
   ]
  },
  {
   "cell_type": "code",
   "execution_count": null,
   "metadata": {
    "collapsed": true
   },
   "outputs": [],
   "source": [
    "for num in range(2, 50):  \n",
    "    for i in range(2, num): \n",
    "        if num % i == 0:  \n",
    "            break   # Jump out of the current loop\n",
    "    else:  # The else part of the loop\n",
    "        print(num, 'is a prime number') "
   ]
  },
  {
   "cell_type": "code",
   "execution_count": null,
   "metadata": {
    "collapsed": true
   },
   "outputs": [],
   "source": [
    "### can we revise this programme and make it interactive? "
   ]
  },
  {
   "cell_type": "code",
   "execution_count": null,
   "metadata": {
    "collapsed": true
   },
   "outputs": [],
   "source": [
    "num = int(input(\"pls enter a number: \"))\n",
    "\n",
    "if num > 1:\n",
    "    for i in range(2, num): \n",
    "        if (num % i) == 0:\n",
    "            print(num, \"is not a prime number\")\n",
    "            print(i,'*',num//i,'is',num)\n",
    "            break\n",
    "        else:\n",
    "            print(num, ' is a prime number')"
   ]
  },
  {
   "cell_type": "markdown",
   "metadata": {},
   "source": [
    "### advanced ```for``` loops: iterators"
   ]
  },
  {
   "cell_type": "markdown",
   "metadata": {},
   "source": [
    "### ```enumerate```\n",
    "Often you need to iterate not only the values in an array, but also keep track of the index. "
   ]
  },
  {
   "cell_type": "code",
   "execution_count": null,
   "metadata": {
    "collapsed": true
   },
   "outputs": [],
   "source": [
    "my_list = ['apple', 'banana', 'grapes', 'pear', 'elephant']\n",
    "for c, value in enumerate(my_list, 1):  # (my list, starting point)\n",
    "    print(c, value)\n",
    "    #print(c, value, end = ' ')  # can arrange the output as well"
   ]
  },
  {
   "cell_type": "markdown",
   "metadata": {
    "collapsed": true
   },
   "source": [
    "### ```zip```\n",
    "```zip``` is used to loop over multiple lists. \n",
    "\n",
    "If the two lists are in different lengths, the **shortest** will determine the length of the ``zip``."
   ]
  },
  {
   "cell_type": "code",
   "execution_count": null,
   "metadata": {
    "collapsed": true
   },
   "outputs": [],
   "source": [
    "L = [2, 4, 6, 8, 10]\n",
    "R = [3, 6, 9, 12, 15]\n",
    "for lval, rval in zip(L, R):\n",
    "    print(lval, rval)"
   ]
  },
  {
   "cell_type": "markdown",
   "metadata": {},
   "source": [
    "###  ``while`` loops\n",
    "\n",
    "The ``while`` loop itself involves a conditional statement: it iterates until some condition is met. \n",
    "\n",
    "The argument of the ``while`` loop is evaluated as a boolean statement, and the loop is executed until the statement evaluates to False."
   ]
  },
  {
   "cell_type": "code",
   "execution_count": null,
   "metadata": {
    "collapsed": true,
    "scrolled": true
   },
   "outputs": [],
   "source": [
    "n = 5\n",
    "while n > 0 :  # 當\n",
    "    print(n)\n",
    "    n = n - 1 \n",
    "print('Blastoff!')\n",
    "print(n)\n"
   ]
  },
  {
   "cell_type": "markdown",
   "metadata": {},
   "source": [
    "### ``while`` loop application: Guess the number - bigger or smaller  \n",
    " - problem description: The system randomly generates a number (within a certain range), and let the user guess. If the user guesses the correct number, the program will end. However, if the user guessed a wrong number, then the program will hint the user to guess a bigger number or a smaller number; until the game ends. "
   ]
  },
  {
   "cell_type": "code",
   "execution_count": null,
   "metadata": {
    "collapsed": true
   },
   "outputs": [],
   "source": [
    "import random\n",
    "s = int(random.randint(1,10)) #Generate an integer random number from 1 to 10 \n",
    "#print(s)\n",
    "m = int(input('Enter an integer please:'))\n",
    "while m != s:\n",
    "    if m > s:\n",
    "        print('smaller')\n",
    "        m = int(input('Enter an integer:'))\n",
    "    if m < s:\n",
    "        print('bigger')\n",
    "        m = int(input('Enter an integer:'))\n",
    "    if m == s:\n",
    "        print('OK! ')\n",
    "        break "
   ]
  },
  {
   "cell_type": "markdown",
   "metadata": {},
   "source": [
    "### ``break`` and ``continue``\n",
    "There are two useful statements that can be used within loops to fine-tune how they are executed:\n",
    "\n",
    "- The ``break`` statement breaks-out of the loop entirely\n",
    "- The ``continue`` statement skips the remainder of the current loop, and goes to the next iteration\n",
    "\n",
    "These can be used in both ``for`` and ``while`` loops.\n",
    "\n",
    "Here is an example of using ``continue`` to print a string of odd numbers.\n",
    "In this case, the result could be accomplished just as well with an ``if-else`` statement, but sometimes the ``continue`` statement can be a more convenient way to express the idea you have in mind:"
   ]
  },
  {
   "cell_type": "code",
   "execution_count": null,
   "metadata": {
    "collapsed": true
   },
   "outputs": [],
   "source": [
    "for n in range(20):\n",
    "    # if the remainder of n / 2 is 0, skip the rest of the loop\n",
    "    if n % 2 == 0:\n",
    "        continue\n",
    "    print(n, end=' ')"
   ]
  },
  {
   "cell_type": "markdown",
   "metadata": {},
   "source": [
    "Here is an example of a ``break`` statement used for a less trivial task.\n",
    "This loop will fill a list with all Fibonacci numbers up to a certain value:"
   ]
  },
  {
   "cell_type": "code",
   "execution_count": null,
   "metadata": {
    "collapsed": true
   },
   "outputs": [],
   "source": [
    "a, b = 0, 1\n",
    "amax = 100\n",
    "L = []\n",
    "\n",
    "while True:\n",
    "    (a, b) = (b, a + b)\n",
    "    if a > amax:\n",
    "        break\n",
    "    L.append(a)\n",
    "\n",
    "print(L)"
   ]
  },
  {
   "cell_type": "markdown",
   "metadata": {},
   "source": [
    "Notice that we use a ``while True`` loop, which will loop forever unless we have a break statement!"
   ]
  },
  {
   "cell_type": "markdown",
   "metadata": {},
   "source": [
    "### Loops with an ``else`` Block\n",
    "One rarely used pattern available in Python is the ``else`` statement as part of a ``for`` or ``while`` loop.\n",
    "We discussed the ``else`` block earlier: it executes if all the ``if`` and ``elif`` statements evaluate to ``False``.\n",
    "The loop-``else`` is perhaps one of the more confusingly-named statements in Python; I prefer to think of it as a ``nobreak`` statement: that is, the ``else`` block is executed only if the loop ends naturally, without encountering a ``break`` statement.\n",
    "\n",
    "As an example of where this might be useful, consider the following (non-optimized) implementation of the *Sieve of Eratosthenes*, a well-known algorithm for finding prime numbers:"
   ]
  },
  {
   "cell_type": "code",
   "execution_count": null,
   "metadata": {
    "collapsed": true
   },
   "outputs": [],
   "source": [
    "L = []\n",
    "nmax = 30\n",
    "\n",
    "for n in range(2, nmax):\n",
    "    for factor in L:\n",
    "        if n % factor == 0:\n",
    "            break\n",
    "    else: # no break\n",
    "        L.append(n)\n",
    "print(L)"
   ]
  },
  {
   "cell_type": "markdown",
   "metadata": {
    "collapsed": true
   },
   "source": [
    "## Functions "
   ]
  },
  {
   "cell_type": "markdown",
   "metadata": {},
   "source": [
    "The Python interpreter has a number of functions and types built into it that are always available. They are listed here in alphabetical order.\n",
    "\n",
    "These are the **Built-in Functions**: https://docs.python.org/3/library/functions.html\n",
    "\n",
    "You can also build your own functions (very useful): https://anh.cs.luc.edu/python/hands-on/3.1/handsonHtml/functions.html"
   ]
  },
  {
   "cell_type": "markdown",
   "metadata": {},
   "source": [
    "### Function: to define, and to call "
   ]
  },
  {
   "cell_type": "code",
   "execution_count": null,
   "metadata": {
    "collapsed": true
   },
   "outputs": [],
   "source": [
    "# The heading contains def, the name of the function, parentheses, and finally a colon.\n",
    "\n",
    "def happyBirthdayEmily(): \n",
    "    print(\"Happy Birthday to you!\")\n",
    "    print(\"Happy Birthday to you!\")\n",
    "    print(\"Happy Birthday, dear Emily.\")\n",
    "    print(\"Happy Birthday to you!\")"
   ]
  },
  {
   "cell_type": "code",
   "execution_count": null,
   "metadata": {
    "collapsed": true
   },
   "outputs": [],
   "source": [
    "happyBirthdayEmily()\n",
    "\n",
    "# The parentheses tell Python to execute the named function rather than just refer to the function. Python goes back and looks up the definition, and only then, executes the code inside the function definition. \n",
    "# The term for this action is a function call or function invocation."
   ]
  },
  {
   "cell_type": "markdown",
   "metadata": {},
   "source": [
    "### Function: parameters\n",
    "- Information can be passed to functions as parameter.\n",
    "- Parameters are specified after the function name, inside the parentheses. \n",
    "- You can add as many parameters as you want, just separate them with a comma."
   ]
  },
  {
   "cell_type": "code",
   "execution_count": null,
   "metadata": {
    "collapsed": true
   },
   "outputs": [],
   "source": [
    "def happyBirthday(person, year):\n",
    "    print(\"Happy Birthday, dear \" + person + \" \"  + year + \".\")"
   ]
  },
  {
   "cell_type": "code",
   "execution_count": null,
   "metadata": {
    "collapsed": true
   },
   "outputs": [],
   "source": [
    "happyBirthday('Emily', '2018')"
   ]
  },
  {
   "cell_type": "code",
   "execution_count": null,
   "metadata": {
    "collapsed": true
   },
   "outputs": [],
   "source": [
    "temp = input('please enter the F temp:  ')\n",
    "temp = int(temp)\n",
    "\n",
    "def fahr_to_celsius(temp):\n",
    "    return ((temp - 32) * (5/9))\n",
    "\n",
    "print(\"the C temp is: \" ,  fahr_to_celsius(temp))"
   ]
  },
  {
   "cell_type": "code",
   "execution_count": null,
   "metadata": {
    "collapsed": true
   },
   "outputs": [],
   "source": []
  },
  {
   "cell_type": "markdown",
   "metadata": {},
   "source": [
    "-- Acknowledgement --\n",
    "\n",
    "- This notebook is compiled by Dr. Xinzhi Zhang at HKBU for a Python workshop in Nov 2018. \n",
    "- Some codes are modified from the GitHub repos: [Whirlwind Tour of Python](http://www.oreilly.com/programming/free/a-whirlwind-tour-of-python.csp) by Jake VanderPlas; the content is available [on GitHub](https://github.com/jakevdp/WhirlwindTourOfPython); [Python for Everybody](www.py4e.com) by Charles Severance, the [Python Official Documentation](https://docs.python.org/3/), and Berkerly U's [Data X project](https://data-x.blog/). The codes are released under the Creative Commons CC1.0.\n"
   ]
  },
  {
   "cell_type": "code",
   "execution_count": null,
   "metadata": {
    "collapsed": true
   },
   "outputs": [],
   "source": []
  }
 ],
 "metadata": {
  "anaconda-cloud": {},
  "kernelspec": {
   "display_name": "Python 3",
   "language": "python",
   "name": "python3"
  },
  "language_info": {
   "codemirror_mode": {
    "name": "ipython",
    "version": 3
   },
   "file_extension": ".py",
   "mimetype": "text/x-python",
   "name": "python",
   "nbconvert_exporter": "python",
   "pygments_lexer": "ipython3",
   "version": "3.6.1"
  },
  "toc": {
   "nav_menu": {},
   "number_sections": true,
   "sideBar": true,
   "skip_h1_title": false,
   "title_cell": "Table of Contents",
   "title_sidebar": "Contents",
   "toc_cell": false,
   "toc_position": {},
   "toc_section_display": true,
   "toc_window_display": false
  }
 },
 "nbformat": 4,
 "nbformat_minor": 1
}
