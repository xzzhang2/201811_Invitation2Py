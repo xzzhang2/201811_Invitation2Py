{
 "cells": [
  {
   "cell_type": "markdown",
   "metadata": {},
   "source": [
    "\n",
    "# Pandas \n",
    "\n",
    "- CityU COM5507 201819A - Unit 1 and part of Unit 3: Python and data science tools \n",
    "- **19 Sep 2018, Week 3: Python in a Notebook & data science tools**\n",
    "\n",
    "\n",
    "- Course Instructor: [Dr. Xinzhi Zhang](www.drxinzhizhang.com)  (JOUR, Hong Kong Baptist University) \n",
    "  - xzzhang2@gmail.com\n",
    "\n",
    "\n",
    "- The codes in this notebook are modified from various sources. All codes are for educational purposes only and released under the CC1.0. "
   ]
  },
  {
   "cell_type": "markdown",
   "metadata": {},
   "source": [
    "## What is Pandas? \n",
    "\n",
    "Pandas = panel, dataframe, and series. It is a \"flexible and powerful data analysis / manipulation library for Python, providing labeled data structures similar to R data.frame objects, statistical functions, and much more.\" (Pandas GitHub)\n",
    "\n",
    "Pandas has an oject called a **Data Frame** which is **like a table**. \n",
    "\n",
    "![pd dataframe](pd_dataframe.png)\n"
   ]
  },
  {
   "cell_type": "markdown",
   "metadata": {},
   "source": [
    "# Import Pandas"
   ]
  },
  {
   "cell_type": "code",
   "execution_count": 2,
   "metadata": {
    "collapsed": true
   },
   "outputs": [],
   "source": [
    "# import packages\n",
    "\n",
    "import pandas as pd\n",
    "\n",
    "# Extra packages\n",
    "import numpy as np\n",
    "import matplotlib.pyplot as plt # for plotting\n",
    "import seaborn as sns # for plotting and styling\n"
   ]
  },
  {
   "cell_type": "markdown",
   "metadata": {},
   "source": [
    "# Part 1\n",
    "### Simple creation and manipulation of Pandas objects\n",
    "**Key Points:** Pandas has two / three main data types:\n",
    "* Series (similar to numpy arrays, but with index)\n",
    "* DataFrames (table or spreadsheet with Series in the columns) [important!]\n",
    "* Panels (3D version of DataFrame, not as common)"
   ]
  },
  {
   "cell_type": "markdown",
   "metadata": {},
   "source": [
    "### A Series object in Pandas \n",
    "\n",
    "Like an np.array, but we can combine data types and it has its own index\n",
    "\n",
    "Note: Every column in a DataFrame is a Series\n"
   ]
  },
  {
   "cell_type": "code",
   "execution_count": 28,
   "metadata": {},
   "outputs": [
    {
     "data": {
      "text/plain": [
       "0    1.0\n",
       "1    3.0\n",
       "2    5.0\n",
       "3    NaN\n",
       "4    6.0\n",
       "5    8.0\n",
       "dtype: float64"
      ]
     },
     "execution_count": 28,
     "metadata": {},
     "output_type": "execute_result"
    }
   ],
   "source": [
    "s = pd.Series([1,3,5,np.nan,6,8])  # sth. like a list; np.nan = missing data \n",
    "s"
   ]
  },
  {
   "cell_type": "code",
   "execution_count": 31,
   "metadata": {},
   "outputs": [
    {
     "data": {
      "text/plain": [
       "5.0"
      ]
     },
     "execution_count": 31,
     "metadata": {},
     "output_type": "execute_result"
    }
   ],
   "source": [
    "s[2] # got index "
   ]
  },
  {
   "cell_type": "markdown",
   "metadata": {},
   "source": [
    "### A data frame object in Pandas\n",
    "\n",
    "We use `pd.DataFrame(**inputs**)` and can insert almost any data type as an argument\n",
    "\n",
    "**Function:** `pd.DataFrame(data=None, index=None, columns=None, dtype=None, copy=False)`"
   ]
  },
  {
   "cell_type": "code",
   "execution_count": 35,
   "metadata": {},
   "outputs": [
    {
     "data": {
      "text/html": [
       "<div>\n",
       "<style scoped>\n",
       "    .dataframe tbody tr th:only-of-type {\n",
       "        vertical-align: middle;\n",
       "    }\n",
       "\n",
       "    .dataframe tbody tr th {\n",
       "        vertical-align: top;\n",
       "    }\n",
       "\n",
       "    .dataframe thead th {\n",
       "        text-align: right;\n",
       "    }\n",
       "</style>\n",
       "<table border=\"1\" class=\"dataframe\">\n",
       "  <thead>\n",
       "    <tr style=\"text-align: right;\">\n",
       "      <th></th>\n",
       "      <th>label</th>\n",
       "      <th>value</th>\n",
       "    </tr>\n",
       "  </thead>\n",
       "  <tbody>\n",
       "    <tr>\n",
       "      <th>0</th>\n",
       "      <td>A</td>\n",
       "      <td>1</td>\n",
       "    </tr>\n",
       "    <tr>\n",
       "      <th>1</th>\n",
       "      <td>B</td>\n",
       "      <td>2</td>\n",
       "    </tr>\n",
       "    <tr>\n",
       "      <th>2</th>\n",
       "      <td>C</td>\n",
       "      <td>3</td>\n",
       "    </tr>\n",
       "    <tr>\n",
       "      <th>3</th>\n",
       "      <td>A</td>\n",
       "      <td>4</td>\n",
       "    </tr>\n",
       "    <tr>\n",
       "      <th>4</th>\n",
       "      <td>B</td>\n",
       "      <td>5</td>\n",
       "    </tr>\n",
       "    <tr>\n",
       "      <th>5</th>\n",
       "      <td>C</td>\n",
       "      <td>6</td>\n",
       "    </tr>\n",
       "  </tbody>\n",
       "</table>\n",
       "</div>"
      ],
      "text/plain": [
       "  label  value\n",
       "0     A      1\n",
       "1     B      2\n",
       "2     C      3\n",
       "3     A      4\n",
       "4     B      5\n",
       "5     C      6"
      ]
     },
     "execution_count": 35,
     "metadata": {},
     "output_type": "execute_result"
    }
   ],
   "source": [
    "df1 = pd.DataFrame({'label': ['A', 'B', 'C', 'A', 'B', 'C'],\n",
    "                   'value': [1, 2, 3, 4, 5, 6]})\n",
    "df1"
   ]
  },
  {
   "cell_type": "code",
   "execution_count": 36,
   "metadata": {},
   "outputs": [
    {
     "data": {
      "text/plain": [
       "0    A\n",
       "1    B\n",
       "2    C\n",
       "3    A\n",
       "4    B\n",
       "5    C\n",
       "Name: label, dtype: object"
      ]
     },
     "execution_count": 36,
     "metadata": {},
     "output_type": "execute_result"
    }
   ],
   "source": [
    "df1['label']"
   ]
  },
  {
   "cell_type": "code",
   "execution_count": 37,
   "metadata": {},
   "outputs": [
    {
     "data": {
      "text/plain": [
       "0    a\n",
       "1    b\n",
       "2    c\n",
       "3    a\n",
       "4    b\n",
       "5    c\n",
       "Name: label, dtype: object"
      ]
     },
     "execution_count": 37,
     "metadata": {},
     "output_type": "execute_result"
    }
   ],
   "source": [
    "df1['label'].str.lower()"
   ]
  },
  {
   "cell_type": "code",
   "execution_count": 38,
   "metadata": {},
   "outputs": [
    {
     "data": {
      "text/plain": [
       "21"
      ]
     },
     "execution_count": 38,
     "metadata": {},
     "output_type": "execute_result"
    }
   ],
   "source": [
    "df1['value'].sum()"
   ]
  },
  {
   "cell_type": "code",
   "execution_count": 39,
   "metadata": {},
   "outputs": [
    {
     "data": {
      "text/html": [
       "<div>\n",
       "<style scoped>\n",
       "    .dataframe tbody tr th:only-of-type {\n",
       "        vertical-align: middle;\n",
       "    }\n",
       "\n",
       "    .dataframe tbody tr th {\n",
       "        vertical-align: top;\n",
       "    }\n",
       "\n",
       "    .dataframe thead th {\n",
       "        text-align: right;\n",
       "    }\n",
       "</style>\n",
       "<table border=\"1\" class=\"dataframe\">\n",
       "  <thead>\n",
       "    <tr style=\"text-align: right;\">\n",
       "      <th></th>\n",
       "      <th>value</th>\n",
       "    </tr>\n",
       "    <tr>\n",
       "      <th>label</th>\n",
       "      <th></th>\n",
       "    </tr>\n",
       "  </thead>\n",
       "  <tbody>\n",
       "    <tr>\n",
       "      <th>A</th>\n",
       "      <td>5</td>\n",
       "    </tr>\n",
       "    <tr>\n",
       "      <th>B</th>\n",
       "      <td>7</td>\n",
       "    </tr>\n",
       "    <tr>\n",
       "      <th>C</th>\n",
       "      <td>9</td>\n",
       "    </tr>\n",
       "  </tbody>\n",
       "</table>\n",
       "</div>"
      ],
      "text/plain": [
       "       value\n",
       "label       \n",
       "A          5\n",
       "B          7\n",
       "C          9"
      ]
     },
     "execution_count": 39,
     "metadata": {},
     "output_type": "execute_result"
    }
   ],
   "source": [
    "# Apply aggregates across numerical entries:\n",
    "df1.groupby('label').sum()"
   ]
  },
  {
   "cell_type": "code",
   "execution_count": 32,
   "metadata": {
    "collapsed": true
   },
   "outputs": [],
   "source": [
    "# more complext data types \n",
    "\n",
    "s1 = 1\n",
    "s2 = pd.Timestamp('20130102')\n",
    "s3 = pd.Series(1,index=list(range(4)),dtype='float32')\n",
    "s4 = np.arange(0,4) # one range\n",
    "s5 = pd.Categorical([\"test\",\"train\",\"test\",\"train\"])\n",
    "s6 = 'foo'\n",
    "dates = pd.date_range('20130101', periods=4)"
   ]
  },
  {
   "cell_type": "code",
   "execution_count": 40,
   "metadata": {},
   "outputs": [
    {
     "data": {
      "text/html": [
       "<div>\n",
       "<style scoped>\n",
       "    .dataframe tbody tr th:only-of-type {\n",
       "        vertical-align: middle;\n",
       "    }\n",
       "\n",
       "    .dataframe tbody tr th {\n",
       "        vertical-align: top;\n",
       "    }\n",
       "\n",
       "    .dataframe thead th {\n",
       "        text-align: right;\n",
       "    }\n",
       "</style>\n",
       "<table border=\"1\" class=\"dataframe\">\n",
       "  <thead>\n",
       "    <tr style=\"text-align: right;\">\n",
       "      <th></th>\n",
       "      <th>A</th>\n",
       "      <th>B</th>\n",
       "      <th>C</th>\n",
       "      <th>D</th>\n",
       "      <th>E</th>\n",
       "      <th>F</th>\n",
       "    </tr>\n",
       "  </thead>\n",
       "  <tbody>\n",
       "    <tr>\n",
       "      <th>2013-01-01</th>\n",
       "      <td>1</td>\n",
       "      <td>2013-01-02</td>\n",
       "      <td>NaN</td>\n",
       "      <td>0</td>\n",
       "      <td>test</td>\n",
       "      <td>foo</td>\n",
       "    </tr>\n",
       "    <tr>\n",
       "      <th>2013-01-02</th>\n",
       "      <td>1</td>\n",
       "      <td>2013-01-02</td>\n",
       "      <td>NaN</td>\n",
       "      <td>1</td>\n",
       "      <td>train</td>\n",
       "      <td>foo</td>\n",
       "    </tr>\n",
       "    <tr>\n",
       "      <th>2013-01-03</th>\n",
       "      <td>1</td>\n",
       "      <td>2013-01-02</td>\n",
       "      <td>NaN</td>\n",
       "      <td>2</td>\n",
       "      <td>test</td>\n",
       "      <td>foo</td>\n",
       "    </tr>\n",
       "    <tr>\n",
       "      <th>2013-01-04</th>\n",
       "      <td>1</td>\n",
       "      <td>2013-01-02</td>\n",
       "      <td>NaN</td>\n",
       "      <td>3</td>\n",
       "      <td>train</td>\n",
       "      <td>foo</td>\n",
       "    </tr>\n",
       "  </tbody>\n",
       "</table>\n",
       "</div>"
      ],
      "text/plain": [
       "            A          B   C  D      E    F\n",
       "2013-01-01  1 2013-01-02 NaN  0   test  foo\n",
       "2013-01-02  1 2013-01-02 NaN  1  train  foo\n",
       "2013-01-03  1 2013-01-02 NaN  2   test  foo\n",
       "2013-01-04  1 2013-01-02 NaN  3  train  foo"
      ]
     },
     "execution_count": 40,
     "metadata": {},
     "output_type": "execute_result"
    }
   ],
   "source": [
    "# something like \"key\" \n",
    "df2 = pd.DataFrame({ 'A' : s1,\n",
    "                    'B' : s2,\n",
    "                    'C' : s3,\n",
    "                    'D' : s4,\n",
    "                    'E' : s5,\n",
    "                    'F' : s6 },\n",
    "                 index=dates )  # the first column\n",
    "df2"
   ]
  },
  {
   "cell_type": "code",
   "execution_count": 42,
   "metadata": {},
   "outputs": [
    {
     "data": {
      "text/plain": [
       "A             int64\n",
       "B    datetime64[ns]\n",
       "C           float32\n",
       "D             int64\n",
       "E          category\n",
       "F            object\n",
       "dtype: object"
      ]
     },
     "execution_count": 42,
     "metadata": {},
     "output_type": "execute_result"
    }
   ],
   "source": [
    "df2.dtypes # \"df\" is the name of the dataframe; "
   ]
  },
  {
   "cell_type": "code",
   "execution_count": 43,
   "metadata": {
    "collapsed": true
   },
   "outputs": [],
   "source": [
    "df2 = df2.rename(columns = {'F':'hahahah'})\n"
   ]
  },
  {
   "cell_type": "code",
   "execution_count": null,
   "metadata": {
    "collapsed": true
   },
   "outputs": [],
   "source": [
    "df2"
   ]
  },
  {
   "cell_type": "code",
   "execution_count": null,
   "metadata": {
    "collapsed": true
   },
   "outputs": [],
   "source": []
  },
  {
   "cell_type": "code",
   "execution_count": 20,
   "metadata": {},
   "outputs": [
    {
     "data": {
      "text/html": [
       "<div>\n",
       "<style scoped>\n",
       "    .dataframe tbody tr th:only-of-type {\n",
       "        vertical-align: middle;\n",
       "    }\n",
       "\n",
       "    .dataframe tbody tr th {\n",
       "        vertical-align: top;\n",
       "    }\n",
       "\n",
       "    .dataframe thead th {\n",
       "        text-align: right;\n",
       "    }\n",
       "</style>\n",
       "<table border=\"1\" class=\"dataframe\">\n",
       "  <thead>\n",
       "    <tr style=\"text-align: right;\">\n",
       "      <th></th>\n",
       "      <th>A</th>\n",
       "      <th>B</th>\n",
       "    </tr>\n",
       "  </thead>\n",
       "  <tbody>\n",
       "    <tr>\n",
       "      <th>0</th>\n",
       "      <td>1.764052</td>\n",
       "      <td>2.240893</td>\n",
       "    </tr>\n",
       "    <tr>\n",
       "      <th>1</th>\n",
       "      <td>0.400157</td>\n",
       "      <td>1.867558</td>\n",
       "    </tr>\n",
       "    <tr>\n",
       "      <th>2</th>\n",
       "      <td>0.978738</td>\n",
       "      <td>-0.977278</td>\n",
       "    </tr>\n",
       "  </tbody>\n",
       "</table>\n",
       "</div>"
      ],
      "text/plain": [
       "          A         B\n",
       "0  1.764052  2.240893\n",
       "1  0.400157  1.867558\n",
       "2  0.978738 -0.977278"
      ]
     },
     "execution_count": 20,
     "metadata": {},
     "output_type": "execute_result"
    }
   ],
   "source": [
    "# DataFrame from a Dictionary\n",
    "\n",
    "dict1 = {'A':a1, 'B':a2}\n",
    "df1 = pd.DataFrame(dict1) \n",
    "df1\n",
    "# note that we now have columns without assignment"
   ]
  },
  {
   "cell_type": "code",
   "execution_count": 21,
   "metadata": {},
   "outputs": [
    {
     "data": {
      "text/html": [
       "<div>\n",
       "<style scoped>\n",
       "    .dataframe tbody tr th:only-of-type {\n",
       "        vertical-align: middle;\n",
       "    }\n",
       "\n",
       "    .dataframe tbody tr th {\n",
       "        vertical-align: top;\n",
       "    }\n",
       "\n",
       "    .dataframe thead th {\n",
       "        text-align: right;\n",
       "    }\n",
       "</style>\n",
       "<table border=\"1\" class=\"dataframe\">\n",
       "  <thead>\n",
       "    <tr style=\"text-align: right;\">\n",
       "      <th></th>\n",
       "      <th>A</th>\n",
       "      <th>B</th>\n",
       "      <th>C</th>\n",
       "    </tr>\n",
       "  </thead>\n",
       "  <tbody>\n",
       "    <tr>\n",
       "      <th>0</th>\n",
       "      <td>1.764052</td>\n",
       "      <td>2.240893</td>\n",
       "      <td>0.950088</td>\n",
       "    </tr>\n",
       "    <tr>\n",
       "      <th>1</th>\n",
       "      <td>0.400157</td>\n",
       "      <td>1.867558</td>\n",
       "      <td>-0.151357</td>\n",
       "    </tr>\n",
       "    <tr>\n",
       "      <th>2</th>\n",
       "      <td>0.978738</td>\n",
       "      <td>-0.977278</td>\n",
       "      <td>-0.103219</td>\n",
       "    </tr>\n",
       "  </tbody>\n",
       "</table>\n",
       "</div>"
      ],
      "text/plain": [
       "          A         B         C\n",
       "0  1.764052  2.240893  0.950088\n",
       "1  0.400157  1.867558 -0.151357\n",
       "2  0.978738 -0.977278 -0.103219"
      ]
     },
     "execution_count": 21,
     "metadata": {},
     "output_type": "execute_result"
    }
   ],
   "source": [
    "# We can easily add another column (just as you add values to a dictionary)\n",
    "df1['C']=a3\n",
    "df1"
   ]
  },
  {
   "cell_type": "code",
   "execution_count": 22,
   "metadata": {},
   "outputs": [
    {
     "name": "stdout",
     "output_type": "stream",
     "text": [
      "The column L is a  <class 'pandas.core.series.Series'>\n"
     ]
    },
    {
     "data": {
      "text/html": [
       "<div>\n",
       "<style scoped>\n",
       "    .dataframe tbody tr th:only-of-type {\n",
       "        vertical-align: middle;\n",
       "    }\n",
       "\n",
       "    .dataframe tbody tr th {\n",
       "        vertical-align: top;\n",
       "    }\n",
       "\n",
       "    .dataframe thead th {\n",
       "        text-align: right;\n",
       "    }\n",
       "</style>\n",
       "<table border=\"1\" class=\"dataframe\">\n",
       "  <thead>\n",
       "    <tr style=\"text-align: right;\">\n",
       "      <th></th>\n",
       "      <th>A</th>\n",
       "      <th>B</th>\n",
       "      <th>C</th>\n",
       "      <th>L</th>\n",
       "    </tr>\n",
       "  </thead>\n",
       "  <tbody>\n",
       "    <tr>\n",
       "      <th>0</th>\n",
       "      <td>1.764052</td>\n",
       "      <td>2.240893</td>\n",
       "      <td>0.950088</td>\n",
       "      <td>Something</td>\n",
       "    </tr>\n",
       "    <tr>\n",
       "      <th>1</th>\n",
       "      <td>0.400157</td>\n",
       "      <td>1.867558</td>\n",
       "      <td>-0.151357</td>\n",
       "      <td>3</td>\n",
       "    </tr>\n",
       "    <tr>\n",
       "      <th>2</th>\n",
       "      <td>0.978738</td>\n",
       "      <td>-0.977278</td>\n",
       "      <td>-0.103219</td>\n",
       "      <td>words</td>\n",
       "    </tr>\n",
       "  </tbody>\n",
       "</table>\n",
       "</div>"
      ],
      "text/plain": [
       "          A         B         C          L\n",
       "0  1.764052  2.240893  0.950088  Something\n",
       "1  0.400157  1.867558 -0.151357          3\n",
       "2  0.978738 -0.977278 -0.103219      words"
      ]
     },
     "execution_count": 22,
     "metadata": {},
     "output_type": "execute_result"
    }
   ],
   "source": [
    "# We can add a list with strings and ints as a column \n",
    "df1['L'] = [\"Something\", 3, \"words\"]\n",
    "print (\"The column L is a \",type (df1['L']))\n",
    "df1"
   ]
  },
  {
   "cell_type": "code",
   "execution_count": 23,
   "metadata": {},
   "outputs": [
    {
     "name": "stdout",
     "output_type": "stream",
     "text": [
      "Something\n",
      "<class 'str'>\n",
      "3\n",
      "<class 'int'>\n"
     ]
    }
   ],
   "source": [
    "print(df1['L'][0])\n",
    "print(type(df1['L'][0]))\n",
    "print(df1['L'][1])\n",
    "print(type(df1['L'][1])) # datatype not upcasted / changed as in numpy"
   ]
  },
  {
   "cell_type": "markdown",
   "metadata": {},
   "source": [
    "# Part 2: An example: The stock market \n",
    "\n",
    "Data source: https://www.nasdaq.com/symbol/csv/historical \n",
    "\n",
    "![stock pic](pd_stock_pic1.png)\n"
   ]
  },
  {
   "cell_type": "markdown",
   "metadata": {},
   "source": [
    "## Importing \"CSV\" data "
   ]
  },
  {
   "cell_type": "code",
   "execution_count": 50,
   "metadata": {},
   "outputs": [],
   "source": [
    "# We can download data from the web by using pd.read_csv\n",
    "# A CSV file is a comma seperated file\n",
    "# We can use this 'pd.read_csv' method with urls that host csv files\n",
    "\n",
    "# source: https://www.nasdaq.com/symbol/csv/historical \n",
    "\n",
    "dfg = pd.read_csv('HistoricalQuotes_2008-2018_googl.csv')"
   ]
  },
  {
   "cell_type": "code",
   "execution_count": 51,
   "metadata": {},
   "outputs": [
    {
     "name": "stdout",
     "output_type": "stream",
     "text": [
      "<class 'pandas.core.frame.DataFrame'>\n"
     ]
    },
    {
     "data": {
      "text/html": [
       "<div>\n",
       "<style scoped>\n",
       "    .dataframe tbody tr th:only-of-type {\n",
       "        vertical-align: middle;\n",
       "    }\n",
       "\n",
       "    .dataframe tbody tr th {\n",
       "        vertical-align: top;\n",
       "    }\n",
       "\n",
       "    .dataframe thead th {\n",
       "        text-align: right;\n",
       "    }\n",
       "</style>\n",
       "<table border=\"1\" class=\"dataframe\">\n",
       "  <thead>\n",
       "    <tr style=\"text-align: right;\">\n",
       "      <th></th>\n",
       "      <th>date</th>\n",
       "      <th>close</th>\n",
       "      <th>volume</th>\n",
       "      <th>open</th>\n",
       "      <th>high</th>\n",
       "      <th>low</th>\n",
       "    </tr>\n",
       "  </thead>\n",
       "  <tbody>\n",
       "    <tr>\n",
       "      <th>0</th>\n",
       "      <td>16:00</td>\n",
       "      <td>22.10</td>\n",
       "      <td>142,544</td>\n",
       "      <td>22.20</td>\n",
       "      <td>22.420</td>\n",
       "      <td>22.0000</td>\n",
       "    </tr>\n",
       "    <tr>\n",
       "      <th>1</th>\n",
       "      <td>2018/09/18</td>\n",
       "      <td>22.10</td>\n",
       "      <td>140735.0000</td>\n",
       "      <td>22.15</td>\n",
       "      <td>22.420</td>\n",
       "      <td>22.0000</td>\n",
       "    </tr>\n",
       "    <tr>\n",
       "      <th>2</th>\n",
       "      <td>2018/09/17</td>\n",
       "      <td>22.16</td>\n",
       "      <td>54893.0000</td>\n",
       "      <td>22.43</td>\n",
       "      <td>22.565</td>\n",
       "      <td>22.1500</td>\n",
       "    </tr>\n",
       "    <tr>\n",
       "      <th>3</th>\n",
       "      <td>2018/09/14</td>\n",
       "      <td>22.43</td>\n",
       "      <td>59536.0000</td>\n",
       "      <td>22.29</td>\n",
       "      <td>22.560</td>\n",
       "      <td>22.2300</td>\n",
       "    </tr>\n",
       "    <tr>\n",
       "      <th>4</th>\n",
       "      <td>2018/09/13</td>\n",
       "      <td>22.29</td>\n",
       "      <td>61342.0000</td>\n",
       "      <td>22.43</td>\n",
       "      <td>22.670</td>\n",
       "      <td>22.2500</td>\n",
       "    </tr>\n",
       "    <tr>\n",
       "      <th>5</th>\n",
       "      <td>2018/09/12</td>\n",
       "      <td>22.40</td>\n",
       "      <td>102361.0000</td>\n",
       "      <td>22.53</td>\n",
       "      <td>22.680</td>\n",
       "      <td>22.1500</td>\n",
       "    </tr>\n",
       "    <tr>\n",
       "      <th>6</th>\n",
       "      <td>2018/09/11</td>\n",
       "      <td>22.58</td>\n",
       "      <td>108116.0000</td>\n",
       "      <td>22.31</td>\n",
       "      <td>22.630</td>\n",
       "      <td>22.2000</td>\n",
       "    </tr>\n",
       "    <tr>\n",
       "      <th>7</th>\n",
       "      <td>2018/09/10</td>\n",
       "      <td>22.37</td>\n",
       "      <td>89903.0000</td>\n",
       "      <td>22.75</td>\n",
       "      <td>22.800</td>\n",
       "      <td>22.1900</td>\n",
       "    </tr>\n",
       "    <tr>\n",
       "      <th>8</th>\n",
       "      <td>2018/09/07</td>\n",
       "      <td>22.65</td>\n",
       "      <td>104034.0000</td>\n",
       "      <td>22.37</td>\n",
       "      <td>22.770</td>\n",
       "      <td>22.2300</td>\n",
       "    </tr>\n",
       "    <tr>\n",
       "      <th>9</th>\n",
       "      <td>2018/09/06</td>\n",
       "      <td>22.40</td>\n",
       "      <td>87539.0000</td>\n",
       "      <td>22.46</td>\n",
       "      <td>22.460</td>\n",
       "      <td>22.2676</td>\n",
       "    </tr>\n",
       "  </tbody>\n",
       "</table>\n",
       "</div>"
      ],
      "text/plain": [
       "         date  close       volume   open    high      low\n",
       "0       16:00  22.10      142,544  22.20  22.420  22.0000\n",
       "1  2018/09/18  22.10  140735.0000  22.15  22.420  22.0000\n",
       "2  2018/09/17  22.16   54893.0000  22.43  22.565  22.1500\n",
       "3  2018/09/14  22.43   59536.0000  22.29  22.560  22.2300\n",
       "4  2018/09/13  22.29   61342.0000  22.43  22.670  22.2500\n",
       "5  2018/09/12  22.40  102361.0000  22.53  22.680  22.1500\n",
       "6  2018/09/11  22.58  108116.0000  22.31  22.630  22.2000\n",
       "7  2018/09/10  22.37   89903.0000  22.75  22.800  22.1900\n",
       "8  2018/09/07  22.65  104034.0000  22.37  22.770  22.2300\n",
       "9  2018/09/06  22.40   87539.0000  22.46  22.460  22.2676"
      ]
     },
     "execution_count": 51,
     "metadata": {},
     "output_type": "execute_result"
    }
   ],
   "source": [
    "print(type(dfg))\n",
    "dfg.head(10) # show first five values"
   ]
  },
  {
   "cell_type": "code",
   "execution_count": 52,
   "metadata": {},
   "outputs": [
    {
     "data": {
      "text/html": [
       "<div>\n",
       "<style scoped>\n",
       "    .dataframe tbody tr th:only-of-type {\n",
       "        vertical-align: middle;\n",
       "    }\n",
       "\n",
       "    .dataframe tbody tr th {\n",
       "        vertical-align: top;\n",
       "    }\n",
       "\n",
       "    .dataframe thead th {\n",
       "        text-align: right;\n",
       "    }\n",
       "</style>\n",
       "<table border=\"1\" class=\"dataframe\">\n",
       "  <thead>\n",
       "    <tr style=\"text-align: right;\">\n",
       "      <th></th>\n",
       "      <th>date</th>\n",
       "      <th>close</th>\n",
       "      <th>volume</th>\n",
       "      <th>open</th>\n",
       "      <th>high</th>\n",
       "      <th>low</th>\n",
       "    </tr>\n",
       "  </thead>\n",
       "  <tbody>\n",
       "    <tr>\n",
       "      <th>2516</th>\n",
       "      <td>2008/09/22</td>\n",
       "      <td>3.41</td>\n",
       "      <td>231344.0000</td>\n",
       "      <td>3.36</td>\n",
       "      <td>3.4600</td>\n",
       "      <td>3.30</td>\n",
       "    </tr>\n",
       "    <tr>\n",
       "      <th>2517</th>\n",
       "      <td>2008/09/19</td>\n",
       "      <td>3.30</td>\n",
       "      <td>251526.0000</td>\n",
       "      <td>3.31</td>\n",
       "      <td>3.6717</td>\n",
       "      <td>3.20</td>\n",
       "    </tr>\n",
       "    <tr>\n",
       "      <th>2518</th>\n",
       "      <td>2008/09/18</td>\n",
       "      <td>3.30</td>\n",
       "      <td>126877.0000</td>\n",
       "      <td>3.40</td>\n",
       "      <td>3.4500</td>\n",
       "      <td>3.27</td>\n",
       "    </tr>\n",
       "  </tbody>\n",
       "</table>\n",
       "</div>"
      ],
      "text/plain": [
       "            date  close       volume  open    high   low\n",
       "2516  2008/09/22   3.41  231344.0000  3.36  3.4600  3.30\n",
       "2517  2008/09/19   3.30  251526.0000  3.31  3.6717  3.20\n",
       "2518  2008/09/18   3.30  126877.0000  3.40  3.4500  3.27"
      ]
     },
     "execution_count": 52,
     "metadata": {},
     "output_type": "execute_result"
    }
   ],
   "source": [
    "dfg.tail(3) # last three"
   ]
  },
  {
   "cell_type": "code",
   "execution_count": 53,
   "metadata": {},
   "outputs": [
    {
     "data": {
      "text/plain": [
       "Index(['date', 'close', 'volume', 'open', 'high', 'low'], dtype='object')"
      ]
     },
     "execution_count": 53,
     "metadata": {},
     "output_type": "execute_result"
    }
   ],
   "source": [
    "dfg.columns # returns columns, can be used to loop over"
   ]
  },
  {
   "cell_type": "code",
   "execution_count": 54,
   "metadata": {},
   "outputs": [
    {
     "data": {
      "text/plain": [
       "RangeIndex(start=0, stop=2519, step=1)"
      ]
     },
     "execution_count": 54,
     "metadata": {},
     "output_type": "execute_result"
    }
   ],
   "source": [
    "dfg.index # return"
   ]
  },
  {
   "cell_type": "markdown",
   "metadata": {},
   "source": [
    "## Convert the index to pandas datetime object"
   ]
  },
  {
   "cell_type": "code",
   "execution_count": 56,
   "metadata": {},
   "outputs": [
    {
     "data": {
      "text/plain": [
       "str"
      ]
     },
     "execution_count": 56,
     "metadata": {},
     "output_type": "execute_result"
    }
   ],
   "source": [
    "type(dfg['date'][0])"
   ]
  },
  {
   "cell_type": "code",
   "execution_count": 57,
   "metadata": {
    "collapsed": true
   },
   "outputs": [],
   "source": [
    "dfg.index = pd.to_datetime(dfg['date']) # set index"
   ]
  },
  {
   "cell_type": "code",
   "execution_count": 58,
   "metadata": {
    "collapsed": true
   },
   "outputs": [],
   "source": [
    "dfg.drop(['date'],axis=1,inplace=True)"
   ]
  },
  {
   "cell_type": "code",
   "execution_count": 59,
   "metadata": {},
   "outputs": [
    {
     "data": {
      "text/html": [
       "<div>\n",
       "<style scoped>\n",
       "    .dataframe tbody tr th:only-of-type {\n",
       "        vertical-align: middle;\n",
       "    }\n",
       "\n",
       "    .dataframe tbody tr th {\n",
       "        vertical-align: top;\n",
       "    }\n",
       "\n",
       "    .dataframe thead th {\n",
       "        text-align: right;\n",
       "    }\n",
       "</style>\n",
       "<table border=\"1\" class=\"dataframe\">\n",
       "  <thead>\n",
       "    <tr style=\"text-align: right;\">\n",
       "      <th></th>\n",
       "      <th>close</th>\n",
       "      <th>volume</th>\n",
       "      <th>open</th>\n",
       "      <th>high</th>\n",
       "      <th>low</th>\n",
       "    </tr>\n",
       "    <tr>\n",
       "      <th>date</th>\n",
       "      <th></th>\n",
       "      <th></th>\n",
       "      <th></th>\n",
       "      <th></th>\n",
       "      <th></th>\n",
       "    </tr>\n",
       "  </thead>\n",
       "  <tbody>\n",
       "    <tr>\n",
       "      <th>2018-09-19 16:00:00</th>\n",
       "      <td>22.10</td>\n",
       "      <td>142,544</td>\n",
       "      <td>22.20</td>\n",
       "      <td>22.420</td>\n",
       "      <td>22.00</td>\n",
       "    </tr>\n",
       "    <tr>\n",
       "      <th>2018-09-18 00:00:00</th>\n",
       "      <td>22.10</td>\n",
       "      <td>140735.0000</td>\n",
       "      <td>22.15</td>\n",
       "      <td>22.420</td>\n",
       "      <td>22.00</td>\n",
       "    </tr>\n",
       "    <tr>\n",
       "      <th>2018-09-17 00:00:00</th>\n",
       "      <td>22.16</td>\n",
       "      <td>54893.0000</td>\n",
       "      <td>22.43</td>\n",
       "      <td>22.565</td>\n",
       "      <td>22.15</td>\n",
       "    </tr>\n",
       "    <tr>\n",
       "      <th>2018-09-14 00:00:00</th>\n",
       "      <td>22.43</td>\n",
       "      <td>59536.0000</td>\n",
       "      <td>22.29</td>\n",
       "      <td>22.560</td>\n",
       "      <td>22.23</td>\n",
       "    </tr>\n",
       "    <tr>\n",
       "      <th>2018-09-13 00:00:00</th>\n",
       "      <td>22.29</td>\n",
       "      <td>61342.0000</td>\n",
       "      <td>22.43</td>\n",
       "      <td>22.670</td>\n",
       "      <td>22.25</td>\n",
       "    </tr>\n",
       "  </tbody>\n",
       "</table>\n",
       "</div>"
      ],
      "text/plain": [
       "                     close       volume   open    high    low\n",
       "date                                                         \n",
       "2018-09-19 16:00:00  22.10      142,544  22.20  22.420  22.00\n",
       "2018-09-18 00:00:00  22.10  140735.0000  22.15  22.420  22.00\n",
       "2018-09-17 00:00:00  22.16   54893.0000  22.43  22.565  22.15\n",
       "2018-09-14 00:00:00  22.43   59536.0000  22.29  22.560  22.23\n",
       "2018-09-13 00:00:00  22.29   61342.0000  22.43  22.670  22.25"
      ]
     },
     "execution_count": 59,
     "metadata": {},
     "output_type": "execute_result"
    }
   ],
   "source": [
    "dfg.head()"
   ]
  },
  {
   "cell_type": "code",
   "execution_count": 63,
   "metadata": {},
   "outputs": [
    {
     "name": "stdout",
     "output_type": "stream",
     "text": [
      "<class 'pandas._libs.tslib.Timestamp'>\n"
     ]
    },
    {
     "data": {
      "text/plain": [
       "Timestamp('2018-09-19 16:00:00')"
      ]
     },
     "execution_count": 63,
     "metadata": {},
     "output_type": "execute_result"
    }
   ],
   "source": [
    "print(type(dfg.index[0]))\n",
    "dfg.index[0]"
   ]
  },
  {
   "cell_type": "code",
   "execution_count": 71,
   "metadata": {},
   "outputs": [
    {
     "data": {
      "text/html": [
       "<div>\n",
       "<style scoped>\n",
       "    .dataframe tbody tr th:only-of-type {\n",
       "        vertical-align: middle;\n",
       "    }\n",
       "\n",
       "    .dataframe tbody tr th {\n",
       "        vertical-align: top;\n",
       "    }\n",
       "\n",
       "    .dataframe thead th {\n",
       "        text-align: right;\n",
       "    }\n",
       "</style>\n",
       "<table border=\"1\" class=\"dataframe\">\n",
       "  <thead>\n",
       "    <tr style=\"text-align: right;\">\n",
       "      <th></th>\n",
       "      <th>close</th>\n",
       "      <th>volume</th>\n",
       "      <th>open</th>\n",
       "      <th>high</th>\n",
       "      <th>low</th>\n",
       "    </tr>\n",
       "    <tr>\n",
       "      <th>date</th>\n",
       "      <th></th>\n",
       "      <th></th>\n",
       "      <th></th>\n",
       "      <th></th>\n",
       "      <th></th>\n",
       "    </tr>\n",
       "  </thead>\n",
       "  <tbody>\n",
       "    <tr>\n",
       "      <th>2018-09-17</th>\n",
       "      <td>22.16</td>\n",
       "      <td>54893.0000</td>\n",
       "      <td>22.43</td>\n",
       "      <td>22.5650</td>\n",
       "      <td>22.1500</td>\n",
       "    </tr>\n",
       "    <tr>\n",
       "      <th>2018-09-14</th>\n",
       "      <td>22.43</td>\n",
       "      <td>59536.0000</td>\n",
       "      <td>22.29</td>\n",
       "      <td>22.5600</td>\n",
       "      <td>22.2300</td>\n",
       "    </tr>\n",
       "    <tr>\n",
       "      <th>2018-09-13</th>\n",
       "      <td>22.29</td>\n",
       "      <td>61342.0000</td>\n",
       "      <td>22.43</td>\n",
       "      <td>22.6700</td>\n",
       "      <td>22.2500</td>\n",
       "    </tr>\n",
       "    <tr>\n",
       "      <th>2018-09-12</th>\n",
       "      <td>22.40</td>\n",
       "      <td>102361.0000</td>\n",
       "      <td>22.53</td>\n",
       "      <td>22.6800</td>\n",
       "      <td>22.1500</td>\n",
       "    </tr>\n",
       "    <tr>\n",
       "      <th>2018-09-11</th>\n",
       "      <td>22.58</td>\n",
       "      <td>108116.0000</td>\n",
       "      <td>22.31</td>\n",
       "      <td>22.6300</td>\n",
       "      <td>22.2000</td>\n",
       "    </tr>\n",
       "    <tr>\n",
       "      <th>2018-09-10</th>\n",
       "      <td>22.37</td>\n",
       "      <td>89903.0000</td>\n",
       "      <td>22.75</td>\n",
       "      <td>22.8000</td>\n",
       "      <td>22.1900</td>\n",
       "    </tr>\n",
       "    <tr>\n",
       "      <th>2018-09-07</th>\n",
       "      <td>22.65</td>\n",
       "      <td>104034.0000</td>\n",
       "      <td>22.37</td>\n",
       "      <td>22.7700</td>\n",
       "      <td>22.2300</td>\n",
       "    </tr>\n",
       "    <tr>\n",
       "      <th>2018-09-06</th>\n",
       "      <td>22.40</td>\n",
       "      <td>87539.0000</td>\n",
       "      <td>22.46</td>\n",
       "      <td>22.4600</td>\n",
       "      <td>22.2676</td>\n",
       "    </tr>\n",
       "    <tr>\n",
       "      <th>2018-09-05</th>\n",
       "      <td>22.38</td>\n",
       "      <td>95571.0000</td>\n",
       "      <td>22.35</td>\n",
       "      <td>22.4800</td>\n",
       "      <td>22.2500</td>\n",
       "    </tr>\n",
       "    <tr>\n",
       "      <th>2018-09-04</th>\n",
       "      <td>22.42</td>\n",
       "      <td>61743.0000</td>\n",
       "      <td>22.71</td>\n",
       "      <td>22.8000</td>\n",
       "      <td>22.3700</td>\n",
       "    </tr>\n",
       "    <tr>\n",
       "      <th>2018-08-31</th>\n",
       "      <td>22.77</td>\n",
       "      <td>77805.0000</td>\n",
       "      <td>22.88</td>\n",
       "      <td>23.0700</td>\n",
       "      <td>22.6500</td>\n",
       "    </tr>\n",
       "    <tr>\n",
       "      <th>2018-08-30</th>\n",
       "      <td>22.94</td>\n",
       "      <td>113680.0000</td>\n",
       "      <td>23.18</td>\n",
       "      <td>23.1800</td>\n",
       "      <td>22.8900</td>\n",
       "    </tr>\n",
       "    <tr>\n",
       "      <th>2018-08-29</th>\n",
       "      <td>23.17</td>\n",
       "      <td>42226.0000</td>\n",
       "      <td>23.32</td>\n",
       "      <td>23.5022</td>\n",
       "      <td>23.0950</td>\n",
       "    </tr>\n",
       "    <tr>\n",
       "      <th>2018-08-28</th>\n",
       "      <td>23.39</td>\n",
       "      <td>50134.0000</td>\n",
       "      <td>23.66</td>\n",
       "      <td>23.6800</td>\n",
       "      <td>23.2500</td>\n",
       "    </tr>\n",
       "    <tr>\n",
       "      <th>2018-08-27</th>\n",
       "      <td>23.66</td>\n",
       "      <td>141467.0000</td>\n",
       "      <td>23.19</td>\n",
       "      <td>23.7900</td>\n",
       "      <td>23.1000</td>\n",
       "    </tr>\n",
       "    <tr>\n",
       "      <th>2018-08-24</th>\n",
       "      <td>23.22</td>\n",
       "      <td>84262.0000</td>\n",
       "      <td>23.26</td>\n",
       "      <td>23.3600</td>\n",
       "      <td>23.1700</td>\n",
       "    </tr>\n",
       "    <tr>\n",
       "      <th>2018-08-23</th>\n",
       "      <td>23.24</td>\n",
       "      <td>98161.0000</td>\n",
       "      <td>23.35</td>\n",
       "      <td>23.3800</td>\n",
       "      <td>23.1100</td>\n",
       "    </tr>\n",
       "    <tr>\n",
       "      <th>2018-08-22</th>\n",
       "      <td>23.38</td>\n",
       "      <td>120172.0000</td>\n",
       "      <td>23.90</td>\n",
       "      <td>24.0900</td>\n",
       "      <td>23.3500</td>\n",
       "    </tr>\n",
       "    <tr>\n",
       "      <th>2018-08-21</th>\n",
       "      <td>23.97</td>\n",
       "      <td>78018.0000</td>\n",
       "      <td>23.79</td>\n",
       "      <td>24.0700</td>\n",
       "      <td>23.6700</td>\n",
       "    </tr>\n",
       "    <tr>\n",
       "      <th>2018-08-20</th>\n",
       "      <td>23.55</td>\n",
       "      <td>79898.0000</td>\n",
       "      <td>23.38</td>\n",
       "      <td>23.6100</td>\n",
       "      <td>22.9900</td>\n",
       "    </tr>\n",
       "  </tbody>\n",
       "</table>\n",
       "</div>"
      ],
      "text/plain": [
       "            close       volume   open     high      low\n",
       "date                                                   \n",
       "2018-09-17  22.16   54893.0000  22.43  22.5650  22.1500\n",
       "2018-09-14  22.43   59536.0000  22.29  22.5600  22.2300\n",
       "2018-09-13  22.29   61342.0000  22.43  22.6700  22.2500\n",
       "2018-09-12  22.40  102361.0000  22.53  22.6800  22.1500\n",
       "2018-09-11  22.58  108116.0000  22.31  22.6300  22.2000\n",
       "2018-09-10  22.37   89903.0000  22.75  22.8000  22.1900\n",
       "2018-09-07  22.65  104034.0000  22.37  22.7700  22.2300\n",
       "2018-09-06  22.40   87539.0000  22.46  22.4600  22.2676\n",
       "2018-09-05  22.38   95571.0000  22.35  22.4800  22.2500\n",
       "2018-09-04  22.42   61743.0000  22.71  22.8000  22.3700\n",
       "2018-08-31  22.77   77805.0000  22.88  23.0700  22.6500\n",
       "2018-08-30  22.94  113680.0000  23.18  23.1800  22.8900\n",
       "2018-08-29  23.17   42226.0000  23.32  23.5022  23.0950\n",
       "2018-08-28  23.39   50134.0000  23.66  23.6800  23.2500\n",
       "2018-08-27  23.66  141467.0000  23.19  23.7900  23.1000\n",
       "2018-08-24  23.22   84262.0000  23.26  23.3600  23.1700\n",
       "2018-08-23  23.24   98161.0000  23.35  23.3800  23.1100\n",
       "2018-08-22  23.38  120172.0000  23.90  24.0900  23.3500\n",
       "2018-08-21  23.97   78018.0000  23.79  24.0700  23.6700\n",
       "2018-08-20  23.55   79898.0000  23.38  23.6100  22.9900"
      ]
     },
     "execution_count": 71,
     "metadata": {},
     "output_type": "execute_result"
    }
   ],
   "source": [
    "dfg['2018-09-17':'2018-08-18']"
   ]
  },
  {
   "cell_type": "markdown",
   "metadata": {},
   "source": [
    "## Attributes & general statitics of a Pandas DataFrame"
   ]
  },
  {
   "cell_type": "code",
   "execution_count": 171,
   "metadata": {},
   "outputs": [
    {
     "data": {
      "text/plain": [
       "(2519, 5)"
      ]
     },
     "execution_count": 171,
     "metadata": {},
     "output_type": "execute_result"
    }
   ],
   "source": [
    "dfg.shape # 2519 business days in the past 10 years, 5 variables "
   ]
  },
  {
   "cell_type": "code",
   "execution_count": 173,
   "metadata": {},
   "outputs": [
    {
     "data": {
      "text/plain": [
       "12595"
      ]
     },
     "execution_count": 173,
     "metadata": {},
     "output_type": "execute_result"
    }
   ],
   "source": [
    "dfg.size"
   ]
  },
  {
   "cell_type": "code",
   "execution_count": 172,
   "metadata": {},
   "outputs": [
    {
     "data": {
      "text/plain": [
       "Index(['close', 'volume', 'open', 'high', 'low'], dtype='object')"
      ]
     },
     "execution_count": 172,
     "metadata": {},
     "output_type": "execute_result"
    }
   ],
   "source": [
    "dfg.columns"
   ]
  },
  {
   "cell_type": "code",
   "execution_count": 78,
   "metadata": {},
   "outputs": [
    {
     "data": {
      "text/html": [
       "<div>\n",
       "<style scoped>\n",
       "    .dataframe tbody tr th:only-of-type {\n",
       "        vertical-align: middle;\n",
       "    }\n",
       "\n",
       "    .dataframe tbody tr th {\n",
       "        vertical-align: top;\n",
       "    }\n",
       "\n",
       "    .dataframe thead th {\n",
       "        text-align: right;\n",
       "    }\n",
       "</style>\n",
       "<table border=\"1\" class=\"dataframe\">\n",
       "  <thead>\n",
       "    <tr style=\"text-align: right;\">\n",
       "      <th></th>\n",
       "      <th>close</th>\n",
       "      <th>open</th>\n",
       "      <th>high</th>\n",
       "      <th>low</th>\n",
       "    </tr>\n",
       "  </thead>\n",
       "  <tbody>\n",
       "    <tr>\n",
       "      <th>count</th>\n",
       "      <td>2519.00000</td>\n",
       "      <td>2519.000000</td>\n",
       "      <td>2519.000000</td>\n",
       "      <td>2519.000000</td>\n",
       "    </tr>\n",
       "    <tr>\n",
       "      <th>mean</th>\n",
       "      <td>15.01947</td>\n",
       "      <td>15.013484</td>\n",
       "      <td>15.205141</td>\n",
       "      <td>14.826368</td>\n",
       "    </tr>\n",
       "    <tr>\n",
       "      <th>std</th>\n",
       "      <td>8.99902</td>\n",
       "      <td>9.003459</td>\n",
       "      <td>9.078259</td>\n",
       "      <td>8.928512</td>\n",
       "    </tr>\n",
       "    <tr>\n",
       "      <th>min</th>\n",
       "      <td>1.41000</td>\n",
       "      <td>1.380000</td>\n",
       "      <td>1.470000</td>\n",
       "      <td>1.100000</td>\n",
       "    </tr>\n",
       "    <tr>\n",
       "      <th>25%</th>\n",
       "      <td>5.46000</td>\n",
       "      <td>5.440000</td>\n",
       "      <td>5.530050</td>\n",
       "      <td>5.345000</td>\n",
       "    </tr>\n",
       "    <tr>\n",
       "      <th>50%</th>\n",
       "      <td>17.77000</td>\n",
       "      <td>17.750000</td>\n",
       "      <td>18.030000</td>\n",
       "      <td>17.500000</td>\n",
       "    </tr>\n",
       "    <tr>\n",
       "      <th>75%</th>\n",
       "      <td>23.62000</td>\n",
       "      <td>23.600000</td>\n",
       "      <td>23.850000</td>\n",
       "      <td>23.388800</td>\n",
       "    </tr>\n",
       "    <tr>\n",
       "      <th>max</th>\n",
       "      <td>28.93000</td>\n",
       "      <td>29.000000</td>\n",
       "      <td>29.110000</td>\n",
       "      <td>28.840000</td>\n",
       "    </tr>\n",
       "  </tbody>\n",
       "</table>\n",
       "</div>"
      ],
      "text/plain": [
       "            close         open         high          low\n",
       "count  2519.00000  2519.000000  2519.000000  2519.000000\n",
       "mean     15.01947    15.013484    15.205141    14.826368\n",
       "std       8.99902     9.003459     9.078259     8.928512\n",
       "min       1.41000     1.380000     1.470000     1.100000\n",
       "25%       5.46000     5.440000     5.530050     5.345000\n",
       "50%      17.77000    17.750000    18.030000    17.500000\n",
       "75%      23.62000    23.600000    23.850000    23.388800\n",
       "max      28.93000    29.000000    29.110000    28.840000"
      ]
     },
     "execution_count": 78,
     "metadata": {},
     "output_type": "execute_result"
    }
   ],
   "source": [
    "# Some general statistics\n",
    "\n",
    "dfg.describe()"
   ]
  },
  {
   "cell_type": "code",
   "execution_count": 89,
   "metadata": {},
   "outputs": [
    {
     "data": {
      "text/plain": [
       "date\n",
       "2018-09-19 16:00:00    22.20\n",
       "2018-09-18 00:00:00    22.15\n",
       "2018-09-17 00:00:00    22.43\n",
       "2018-09-14 00:00:00    22.29\n",
       "2018-09-13 00:00:00    22.43\n",
       "2018-09-12 00:00:00    22.53\n",
       "2018-09-11 00:00:00    22.31\n",
       "2018-09-10 00:00:00    22.75\n",
       "2018-09-07 00:00:00    22.37\n",
       "2018-09-06 00:00:00    22.46\n",
       "2018-09-05 00:00:00    22.35\n",
       "2018-09-04 00:00:00    22.71\n",
       "2018-08-31 00:00:00    22.88\n",
       "2018-08-30 00:00:00    23.18\n",
       "2018-08-29 00:00:00    23.32\n",
       "2018-08-28 00:00:00    23.66\n",
       "2018-08-27 00:00:00    23.19\n",
       "2018-08-24 00:00:00    23.26\n",
       "2018-08-23 00:00:00    23.35\n",
       "2018-08-22 00:00:00    23.90\n",
       "2018-08-21 00:00:00    23.79\n",
       "2018-08-20 00:00:00    23.38\n",
       "2018-08-17 00:00:00    23.45\n",
       "2018-08-16 00:00:00    23.23\n",
       "2018-08-15 00:00:00    22.93\n",
       "2018-08-14 00:00:00    23.18\n",
       "2018-08-13 00:00:00    23.32\n",
       "2018-08-10 00:00:00    23.48\n",
       "2018-08-09 00:00:00    24.03\n",
       "2018-08-08 00:00:00    24.16\n",
       "                       ...  \n",
       "2013-03-28 00:00:00    21.35\n",
       "2013-03-27 00:00:00    20.99\n",
       "2013-03-26 00:00:00    20.93\n",
       "2013-03-25 00:00:00    20.46\n",
       "2013-03-22 00:00:00    20.39\n",
       "2013-03-21 00:00:00    20.20\n",
       "2013-03-20 00:00:00    19.75\n",
       "2013-03-19 00:00:00    19.46\n",
       "2013-03-18 00:00:00    19.01\n",
       "2013-03-15 00:00:00    19.65\n",
       "2013-03-14 00:00:00    19.32\n",
       "2013-03-13 00:00:00    19.54\n",
       "2013-03-12 00:00:00    19.41\n",
       "2013-03-11 00:00:00    19.54\n",
       "2013-03-08 00:00:00    20.00\n",
       "2013-03-07 00:00:00    19.20\n",
       "2013-03-06 00:00:00    19.11\n",
       "2013-03-05 00:00:00    18.52\n",
       "2013-03-04 00:00:00    18.16\n",
       "2013-03-01 00:00:00    18.05\n",
       "2013-02-28 00:00:00    17.64\n",
       "2013-02-27 00:00:00    17.24\n",
       "2013-02-26 00:00:00    16.75\n",
       "2013-02-25 00:00:00    16.53\n",
       "2013-02-22 00:00:00    15.58\n",
       "2013-02-21 00:00:00    15.38\n",
       "2013-02-20 00:00:00    16.34\n",
       "2013-02-19 00:00:00    15.70\n",
       "2013-02-15 00:00:00    15.30\n",
       "2013-02-14 00:00:00    15.09\n",
       "Name: open, Length: 1410, dtype: float64"
      ]
     },
     "execution_count": 89,
     "metadata": {},
     "output_type": "execute_result"
    }
   ],
   "source": [
    "# Boolean indexing\n",
    "dfg['open'][dfg['open']>15]  # check what dates the opening"
   ]
  },
  {
   "cell_type": "code",
   "execution_count": 91,
   "metadata": {},
   "outputs": [
    {
     "data": {
      "text/plain": [
       "date\n",
       "2018-09-19 16:00:00    22.20\n",
       "2018-09-18 00:00:00    22.15\n",
       "2018-09-17 00:00:00    22.43\n",
       "2018-09-14 00:00:00    22.29\n",
       "2018-09-13 00:00:00    22.43\n",
       "Name: open, dtype: float64"
      ]
     },
     "execution_count": 91,
     "metadata": {},
     "output_type": "execute_result"
    }
   ],
   "source": [
    "dfg['open'][dfg['open']>15].head(5)  # check what dates the opening with the firt 5 "
   ]
  },
  {
   "cell_type": "code",
   "execution_count": 92,
   "metadata": {
    "scrolled": true
   },
   "outputs": [],
   "source": [
    "# Check where Open, High, Low and Close where greater than X\n",
    "# dfg[dfg>X].drop('Volume',axis=1).head(3)"
   ]
  },
  {
   "cell_type": "code",
   "execution_count": 93,
   "metadata": {},
   "outputs": [],
   "source": [
    "# drop na - not run for now \n",
    "## dfg[dfg>X].drop('Volume',axis=1).dropna()\n",
    "\n",
    "# Comments on dropping and filling NaN values\n",
    "# A view where we drop any rows with value NnN\n",
    "# dfg.dropna(how='any')  # this would be used to drop rows with Nan\n",
    "# dfg.fillna(value=5)    # this would be used to fill NaN values with 5"
   ]
  },
  {
   "cell_type": "code",
   "execution_count": 94,
   "metadata": {},
   "outputs": [
    {
     "name": "stdout",
     "output_type": "stream",
     "text": [
      "<class 'numpy.ndarray'>\n",
      "\n"
     ]
    },
    {
     "data": {
      "text/plain": [
       "array([[22.1, '142,544', 22.2, 22.42, 22.0],\n",
       "       [22.1, '140735.0000', 22.15, 22.42, 22.0],\n",
       "       [22.16, '54893.0000', 22.43, 22.565, 22.15],\n",
       "       ...,\n",
       "       [3.41, '231344.0000', 3.36, 3.46, 3.3],\n",
       "       [3.3, '251526.0000', 3.31, 3.6717, 3.2],\n",
       "       [3.3, '126877.0000', 3.4, 3.45, 3.27]], dtype=object)"
      ]
     },
     "execution_count": 94,
     "metadata": {},
     "output_type": "execute_result"
    }
   ],
   "source": [
    "# If you want the values in an np array\n",
    "npg = dfg.values\n",
    "print(type(npg))\n",
    "print()\n",
    "npg"
   ]
  },
  {
   "cell_type": "markdown",
   "metadata": {},
   "source": [
    "## Selecting or Viewing Data within a DataFrame\n",
    "Note: While standard Python / Numpy expressions for selecting and setting are intuitive and come in handy for interactive work, for production code, we recommend the optimized pandas data access methods, .at, .iat, .loc, .iloc and .ix. (from 10 min guide to Pandas)\n"
   ]
  },
  {
   "cell_type": "code",
   "execution_count": 96,
   "metadata": {},
   "outputs": [
    {
     "data": {
      "text/plain": [
       "date\n",
       "2018-09-19 16:00:00    22.10\n",
       "2018-09-18 00:00:00    22.10\n",
       "2018-09-17 00:00:00    22.16\n",
       "2018-09-14 00:00:00    22.43\n",
       "2018-09-13 00:00:00    22.29\n",
       "Name: close, dtype: float64"
      ]
     },
     "execution_count": 96,
     "metadata": {},
     "output_type": "execute_result"
    }
   ],
   "source": [
    "# Lets print the five first Close prices for Google\n",
    "# This is a new Series (like a new table)\n",
    "dfg['close'][0:5]"
   ]
  },
  {
   "cell_type": "code",
   "execution_count": 100,
   "metadata": {},
   "outputs": [
    {
     "data": {
      "text/html": [
       "<div>\n",
       "<style scoped>\n",
       "    .dataframe tbody tr th:only-of-type {\n",
       "        vertical-align: middle;\n",
       "    }\n",
       "\n",
       "    .dataframe tbody tr th {\n",
       "        vertical-align: top;\n",
       "    }\n",
       "\n",
       "    .dataframe thead th {\n",
       "        text-align: right;\n",
       "    }\n",
       "</style>\n",
       "<table border=\"1\" class=\"dataframe\">\n",
       "  <thead>\n",
       "    <tr style=\"text-align: right;\">\n",
       "      <th></th>\n",
       "      <th>close</th>\n",
       "      <th>high</th>\n",
       "    </tr>\n",
       "    <tr>\n",
       "      <th>date</th>\n",
       "      <th></th>\n",
       "      <th></th>\n",
       "    </tr>\n",
       "  </thead>\n",
       "  <tbody>\n",
       "    <tr>\n",
       "      <th>2018-09-19 16:00:00</th>\n",
       "      <td>22.10</td>\n",
       "      <td>22.420</td>\n",
       "    </tr>\n",
       "    <tr>\n",
       "      <th>2018-09-18 00:00:00</th>\n",
       "      <td>22.10</td>\n",
       "      <td>22.420</td>\n",
       "    </tr>\n",
       "    <tr>\n",
       "      <th>2018-09-17 00:00:00</th>\n",
       "      <td>22.16</td>\n",
       "      <td>22.565</td>\n",
       "    </tr>\n",
       "    <tr>\n",
       "      <th>2018-09-14 00:00:00</th>\n",
       "      <td>22.43</td>\n",
       "      <td>22.560</td>\n",
       "    </tr>\n",
       "    <tr>\n",
       "      <th>2018-09-13 00:00:00</th>\n",
       "      <td>22.29</td>\n",
       "      <td>22.670</td>\n",
       "    </tr>\n",
       "    <tr>\n",
       "      <th>2018-09-12 00:00:00</th>\n",
       "      <td>22.40</td>\n",
       "      <td>22.680</td>\n",
       "    </tr>\n",
       "    <tr>\n",
       "      <th>2018-09-11 00:00:00</th>\n",
       "      <td>22.58</td>\n",
       "      <td>22.630</td>\n",
       "    </tr>\n",
       "  </tbody>\n",
       "</table>\n",
       "</div>"
      ],
      "text/plain": [
       "                     close    high\n",
       "date                              \n",
       "2018-09-19 16:00:00  22.10  22.420\n",
       "2018-09-18 00:00:00  22.10  22.420\n",
       "2018-09-17 00:00:00  22.16  22.565\n",
       "2018-09-14 00:00:00  22.43  22.560\n",
       "2018-09-13 00:00:00  22.29  22.670\n",
       "2018-09-12 00:00:00  22.40  22.680\n",
       "2018-09-11 00:00:00  22.58  22.630"
      ]
     },
     "execution_count": 100,
     "metadata": {},
     "output_type": "execute_result"
    }
   ],
   "source": [
    "# Lets print the 2 column\n",
    "dfg[['close','high']][0:7]"
   ]
  },
  {
   "cell_type": "code",
   "execution_count": 101,
   "metadata": {},
   "outputs": [
    {
     "data": {
      "text/html": [
       "<div>\n",
       "<style scoped>\n",
       "    .dataframe tbody tr th:only-of-type {\n",
       "        vertical-align: middle;\n",
       "    }\n",
       "\n",
       "    .dataframe tbody tr th {\n",
       "        vertical-align: top;\n",
       "    }\n",
       "\n",
       "    .dataframe thead th {\n",
       "        text-align: right;\n",
       "    }\n",
       "</style>\n",
       "<table border=\"1\" class=\"dataframe\">\n",
       "  <thead>\n",
       "    <tr style=\"text-align: right;\">\n",
       "      <th></th>\n",
       "      <th>close</th>\n",
       "      <th>volume</th>\n",
       "      <th>open</th>\n",
       "      <th>high</th>\n",
       "      <th>low</th>\n",
       "    </tr>\n",
       "    <tr>\n",
       "      <th>date</th>\n",
       "      <th></th>\n",
       "      <th></th>\n",
       "      <th></th>\n",
       "      <th></th>\n",
       "      <th></th>\n",
       "    </tr>\n",
       "  </thead>\n",
       "  <tbody>\n",
       "    <tr>\n",
       "      <th>2018-09-18</th>\n",
       "      <td>22.10</td>\n",
       "      <td>140735.0000</td>\n",
       "      <td>22.15</td>\n",
       "      <td>22.420</td>\n",
       "      <td>22.00</td>\n",
       "    </tr>\n",
       "    <tr>\n",
       "      <th>2018-09-17</th>\n",
       "      <td>22.16</td>\n",
       "      <td>54893.0000</td>\n",
       "      <td>22.43</td>\n",
       "      <td>22.565</td>\n",
       "      <td>22.15</td>\n",
       "    </tr>\n",
       "    <tr>\n",
       "      <th>2018-09-14</th>\n",
       "      <td>22.43</td>\n",
       "      <td>59536.0000</td>\n",
       "      <td>22.29</td>\n",
       "      <td>22.560</td>\n",
       "      <td>22.23</td>\n",
       "    </tr>\n",
       "    <tr>\n",
       "      <th>2018-09-13</th>\n",
       "      <td>22.29</td>\n",
       "      <td>61342.0000</td>\n",
       "      <td>22.43</td>\n",
       "      <td>22.670</td>\n",
       "      <td>22.25</td>\n",
       "    </tr>\n",
       "  </tbody>\n",
       "</table>\n",
       "</div>"
      ],
      "text/plain": [
       "            close       volume   open    high    low\n",
       "date                                                \n",
       "2018-09-18  22.10  140735.0000  22.15  22.420  22.00\n",
       "2018-09-17  22.16   54893.0000  22.43  22.565  22.15\n",
       "2018-09-14  22.43   59536.0000  22.29  22.560  22.23\n",
       "2018-09-13  22.29   61342.0000  22.43  22.670  22.25"
      ]
     },
     "execution_count": 101,
     "metadata": {},
     "output_type": "execute_result"
    }
   ],
   "source": [
    "# A slice: by rows (row numbers)\n",
    "dfg[1:5] # 2nd to 5th element"
   ]
  },
  {
   "cell_type": "markdown",
   "metadata": {},
   "source": [
    "## .loc()"
   ]
  },
  {
   "cell_type": "code",
   "execution_count": 103,
   "metadata": {},
   "outputs": [
    {
     "data": {
      "text/html": [
       "<div>\n",
       "<style scoped>\n",
       "    .dataframe tbody tr th:only-of-type {\n",
       "        vertical-align: middle;\n",
       "    }\n",
       "\n",
       "    .dataframe tbody tr th {\n",
       "        vertical-align: top;\n",
       "    }\n",
       "\n",
       "    .dataframe thead th {\n",
       "        text-align: right;\n",
       "    }\n",
       "</style>\n",
       "<table border=\"1\" class=\"dataframe\">\n",
       "  <thead>\n",
       "    <tr style=\"text-align: right;\">\n",
       "      <th></th>\n",
       "      <th>open</th>\n",
       "      <th>high</th>\n",
       "      <th>low</th>\n",
       "    </tr>\n",
       "    <tr>\n",
       "      <th>date</th>\n",
       "      <th></th>\n",
       "      <th></th>\n",
       "      <th></th>\n",
       "    </tr>\n",
       "  </thead>\n",
       "  <tbody>\n",
       "    <tr>\n",
       "      <th>2017-08-31</th>\n",
       "      <td>24.27</td>\n",
       "      <td>24.54</td>\n",
       "      <td>24.27</td>\n",
       "    </tr>\n",
       "    <tr>\n",
       "      <th>2017-08-30</th>\n",
       "      <td>24.27</td>\n",
       "      <td>24.40</td>\n",
       "      <td>23.91</td>\n",
       "    </tr>\n",
       "    <tr>\n",
       "      <th>2017-08-29</th>\n",
       "      <td>24.24</td>\n",
       "      <td>24.52</td>\n",
       "      <td>24.19</td>\n",
       "    </tr>\n",
       "    <tr>\n",
       "      <th>2017-08-28</th>\n",
       "      <td>24.42</td>\n",
       "      <td>24.53</td>\n",
       "      <td>24.08</td>\n",
       "    </tr>\n",
       "    <tr>\n",
       "      <th>2017-08-25</th>\n",
       "      <td>24.26</td>\n",
       "      <td>24.80</td>\n",
       "      <td>24.26</td>\n",
       "    </tr>\n",
       "    <tr>\n",
       "      <th>2017-08-24</th>\n",
       "      <td>24.41</td>\n",
       "      <td>24.96</td>\n",
       "      <td>24.22</td>\n",
       "    </tr>\n",
       "    <tr>\n",
       "      <th>2017-08-23</th>\n",
       "      <td>24.13</td>\n",
       "      <td>24.51</td>\n",
       "      <td>23.77</td>\n",
       "    </tr>\n",
       "    <tr>\n",
       "      <th>2017-08-22</th>\n",
       "      <td>24.36</td>\n",
       "      <td>24.52</td>\n",
       "      <td>23.96</td>\n",
       "    </tr>\n",
       "    <tr>\n",
       "      <th>2017-08-21</th>\n",
       "      <td>24.14</td>\n",
       "      <td>24.16</td>\n",
       "      <td>23.96</td>\n",
       "    </tr>\n",
       "  </tbody>\n",
       "</table>\n",
       "</div>"
      ],
      "text/plain": [
       "             open   high    low\n",
       "date                           \n",
       "2017-08-31  24.27  24.54  24.27\n",
       "2017-08-30  24.27  24.40  23.91\n",
       "2017-08-29  24.24  24.52  24.19\n",
       "2017-08-28  24.42  24.53  24.08\n",
       "2017-08-25  24.26  24.80  24.26\n",
       "2017-08-24  24.41  24.96  24.22\n",
       "2017-08-23  24.13  24.51  23.77\n",
       "2017-08-22  24.36  24.52  23.96\n",
       "2017-08-21  24.14  24.16  23.96"
      ]
     },
     "execution_count": 103,
     "metadata": {},
     "output_type": "execute_result"
    }
   ],
   "source": [
    "# Getting a cross section with .loc - BY VALUES of the index and columns\n",
    "# df.loc[a:b, x:y], by rows and column location\n",
    "\n",
    "# Note: You have to know indices and columns\n",
    "\n",
    "dfg.loc['2017-08-31':'2017-08-21','open':'low']"
   ]
  },
  {
   "cell_type": "markdown",
   "metadata": {},
   "source": [
    "## .iloc()"
   ]
  },
  {
   "cell_type": "code",
   "execution_count": 104,
   "metadata": {},
   "outputs": [
    {
     "data": {
      "text/plain": [
       "Index(['close', 'volume', 'open', 'high', 'low'], dtype='object')"
      ]
     },
     "execution_count": 104,
     "metadata": {},
     "output_type": "execute_result"
    }
   ],
   "source": [
    "dfg.columns"
   ]
  },
  {
   "cell_type": "code",
   "execution_count": 105,
   "metadata": {},
   "outputs": [
    {
     "data": {
      "text/html": [
       "<div>\n",
       "<style scoped>\n",
       "    .dataframe tbody tr th:only-of-type {\n",
       "        vertical-align: middle;\n",
       "    }\n",
       "\n",
       "    .dataframe tbody tr th {\n",
       "        vertical-align: top;\n",
       "    }\n",
       "\n",
       "    .dataframe thead th {\n",
       "        text-align: right;\n",
       "    }\n",
       "</style>\n",
       "<table border=\"1\" class=\"dataframe\">\n",
       "  <thead>\n",
       "    <tr style=\"text-align: right;\">\n",
       "      <th></th>\n",
       "      <th>high</th>\n",
       "      <th>low</th>\n",
       "    </tr>\n",
       "    <tr>\n",
       "      <th>date</th>\n",
       "      <th></th>\n",
       "      <th></th>\n",
       "    </tr>\n",
       "  </thead>\n",
       "  <tbody>\n",
       "    <tr>\n",
       "      <th>2018-09-18</th>\n",
       "      <td>22.420</td>\n",
       "      <td>22.00</td>\n",
       "    </tr>\n",
       "    <tr>\n",
       "      <th>2018-09-17</th>\n",
       "      <td>22.565</td>\n",
       "      <td>22.15</td>\n",
       "    </tr>\n",
       "    <tr>\n",
       "      <th>2018-09-14</th>\n",
       "      <td>22.560</td>\n",
       "      <td>22.23</td>\n",
       "    </tr>\n",
       "  </tbody>\n",
       "</table>\n",
       "</div>"
      ],
      "text/plain": [
       "              high    low\n",
       "date                     \n",
       "2018-09-18  22.420  22.00\n",
       "2018-09-17  22.565  22.15\n",
       "2018-09-14  22.560  22.23"
      ]
     },
     "execution_count": 105,
     "metadata": {},
     "output_type": "execute_result"
    }
   ],
   "source": [
    "# .iloc slicing at specific location - BY POSITION in the table\n",
    "# Recall:\n",
    "# dfg[a:b] by rows\n",
    "# dfg[[col]] or df[[col1, col2]] by columns\n",
    "# df.loc[a:b, x:y], by index and column values + location\n",
    "# df.iloc[3:5,0:2], numeric position in table\n",
    "\n",
    "dfg.iloc[1:4,3:5] # 2nd to 4th row, 4th to 5th column"
   ]
  },
  {
   "cell_type": "code",
   "execution_count": 146,
   "metadata": {},
   "outputs": [
    {
     "name": "stdout",
     "output_type": "stream",
     "text": [
      "Open         1138.03\n",
      "High         1143.78\n",
      "Low          1132.50\n",
      "Close        1143.50\n",
      "Volume    1527554.00\n",
      "Name: 2018-01-19 00:00:00, dtype: float64\n"
     ]
    }
   ],
   "source": [
    "# Data only from row with index value '3'\n",
    "print (dfg.iloc[3])"
   ]
  },
  {
   "cell_type": "code",
   "execution_count": 106,
   "metadata": {},
   "outputs": [
    {
     "data": {
      "text/html": [
       "<div>\n",
       "<style scoped>\n",
       "    .dataframe tbody tr th:only-of-type {\n",
       "        vertical-align: middle;\n",
       "    }\n",
       "\n",
       "    .dataframe tbody tr th {\n",
       "        vertical-align: top;\n",
       "    }\n",
       "\n",
       "    .dataframe thead th {\n",
       "        text-align: right;\n",
       "    }\n",
       "</style>\n",
       "<table border=\"1\" class=\"dataframe\">\n",
       "  <thead>\n",
       "    <tr style=\"text-align: right;\">\n",
       "      <th></th>\n",
       "      <th>close</th>\n",
       "      <th>volume</th>\n",
       "      <th>open</th>\n",
       "      <th>high</th>\n",
       "      <th>low</th>\n",
       "    </tr>\n",
       "    <tr>\n",
       "      <th>date</th>\n",
       "      <th></th>\n",
       "      <th></th>\n",
       "      <th></th>\n",
       "      <th></th>\n",
       "      <th></th>\n",
       "    </tr>\n",
       "  </thead>\n",
       "  <tbody>\n",
       "    <tr>\n",
       "      <th>2018-09-18</th>\n",
       "      <td>22.10</td>\n",
       "      <td>140735.0000</td>\n",
       "      <td>22.15</td>\n",
       "      <td>22.420</td>\n",
       "      <td>22.00</td>\n",
       "    </tr>\n",
       "    <tr>\n",
       "      <th>2018-09-17</th>\n",
       "      <td>22.16</td>\n",
       "      <td>54893.0000</td>\n",
       "      <td>22.43</td>\n",
       "      <td>22.565</td>\n",
       "      <td>22.15</td>\n",
       "    </tr>\n",
       "  </tbody>\n",
       "</table>\n",
       "</div>"
      ],
      "text/plain": [
       "            close       volume   open    high    low\n",
       "date                                                \n",
       "2018-09-18  22.10  140735.0000  22.15  22.420  22.00\n",
       "2018-09-17  22.16   54893.0000  22.43  22.565  22.15"
      ]
     },
     "execution_count": 106,
     "metadata": {},
     "output_type": "execute_result"
    }
   ],
   "source": [
    "# iloc will accept a range with ':', just like numpy\n",
    "dfg.iloc[1:3,:]"
   ]
  },
  {
   "cell_type": "code",
   "execution_count": 107,
   "metadata": {},
   "outputs": [
    {
     "name": "stdout",
     "output_type": "stream",
     "text": [
      "54893.0000\n",
      "54893.0000\n"
     ]
    }
   ],
   "source": [
    "# Can also return specific value\n",
    "print (dfg.iloc[2,1])\n",
    "# same as above but faster for one single scaler value\n",
    "print (dfg.iat[2,1])"
   ]
  },
  {
   "cell_type": "markdown",
   "metadata": {},
   "source": [
    "## More Basic Statistics"
   ]
  },
  {
   "cell_type": "code",
   "execution_count": 108,
   "metadata": {},
   "outputs": [
    {
     "data": {
      "text/html": [
       "<div>\n",
       "<style scoped>\n",
       "    .dataframe tbody tr th:only-of-type {\n",
       "        vertical-align: middle;\n",
       "    }\n",
       "\n",
       "    .dataframe tbody tr th {\n",
       "        vertical-align: top;\n",
       "    }\n",
       "\n",
       "    .dataframe thead th {\n",
       "        text-align: right;\n",
       "    }\n",
       "</style>\n",
       "<table border=\"1\" class=\"dataframe\">\n",
       "  <thead>\n",
       "    <tr style=\"text-align: right;\">\n",
       "      <th></th>\n",
       "      <th>close</th>\n",
       "      <th>open</th>\n",
       "      <th>high</th>\n",
       "      <th>low</th>\n",
       "    </tr>\n",
       "  </thead>\n",
       "  <tbody>\n",
       "    <tr>\n",
       "      <th>count</th>\n",
       "      <td>2519.00000</td>\n",
       "      <td>2519.000000</td>\n",
       "      <td>2519.000000</td>\n",
       "      <td>2519.000000</td>\n",
       "    </tr>\n",
       "    <tr>\n",
       "      <th>mean</th>\n",
       "      <td>15.01947</td>\n",
       "      <td>15.013484</td>\n",
       "      <td>15.205141</td>\n",
       "      <td>14.826368</td>\n",
       "    </tr>\n",
       "    <tr>\n",
       "      <th>std</th>\n",
       "      <td>8.99902</td>\n",
       "      <td>9.003459</td>\n",
       "      <td>9.078259</td>\n",
       "      <td>8.928512</td>\n",
       "    </tr>\n",
       "    <tr>\n",
       "      <th>min</th>\n",
       "      <td>1.41000</td>\n",
       "      <td>1.380000</td>\n",
       "      <td>1.470000</td>\n",
       "      <td>1.100000</td>\n",
       "    </tr>\n",
       "    <tr>\n",
       "      <th>25%</th>\n",
       "      <td>5.46000</td>\n",
       "      <td>5.440000</td>\n",
       "      <td>5.530050</td>\n",
       "      <td>5.345000</td>\n",
       "    </tr>\n",
       "    <tr>\n",
       "      <th>50%</th>\n",
       "      <td>17.77000</td>\n",
       "      <td>17.750000</td>\n",
       "      <td>18.030000</td>\n",
       "      <td>17.500000</td>\n",
       "    </tr>\n",
       "    <tr>\n",
       "      <th>75%</th>\n",
       "      <td>23.62000</td>\n",
       "      <td>23.600000</td>\n",
       "      <td>23.850000</td>\n",
       "      <td>23.388800</td>\n",
       "    </tr>\n",
       "    <tr>\n",
       "      <th>max</th>\n",
       "      <td>28.93000</td>\n",
       "      <td>29.000000</td>\n",
       "      <td>29.110000</td>\n",
       "      <td>28.840000</td>\n",
       "    </tr>\n",
       "  </tbody>\n",
       "</table>\n",
       "</div>"
      ],
      "text/plain": [
       "            close         open         high          low\n",
       "count  2519.00000  2519.000000  2519.000000  2519.000000\n",
       "mean     15.01947    15.013484    15.205141    14.826368\n",
       "std       8.99902     9.003459     9.078259     8.928512\n",
       "min       1.41000     1.380000     1.470000     1.100000\n",
       "25%       5.46000     5.440000     5.530050     5.345000\n",
       "50%      17.77000    17.750000    18.030000    17.500000\n",
       "75%      23.62000    23.600000    23.850000    23.388800\n",
       "max      28.93000    29.000000    29.110000    28.840000"
      ]
     },
     "execution_count": 108,
     "metadata": {},
     "output_type": "execute_result"
    }
   ],
   "source": [
    "# A quick way to get statistics\n",
    "dfg.describe()\n",
    "# dfg.describe()['A'][1]\n",
    "# dfg.describe()[2:3]"
   ]
  },
  {
   "cell_type": "code",
   "execution_count": 109,
   "metadata": {},
   "outputs": [
    {
     "data": {
      "text/html": [
       "<div>\n",
       "<style scoped>\n",
       "    .dataframe tbody tr th:only-of-type {\n",
       "        vertical-align: middle;\n",
       "    }\n",
       "\n",
       "    .dataframe tbody tr th {\n",
       "        vertical-align: top;\n",
       "    }\n",
       "\n",
       "    .dataframe thead th {\n",
       "        text-align: right;\n",
       "    }\n",
       "</style>\n",
       "<table border=\"1\" class=\"dataframe\">\n",
       "  <thead>\n",
       "    <tr style=\"text-align: right;\">\n",
       "      <th></th>\n",
       "      <th>high</th>\n",
       "      <th>low</th>\n",
       "    </tr>\n",
       "  </thead>\n",
       "  <tbody>\n",
       "    <tr>\n",
       "      <th>mean</th>\n",
       "      <td>15.205141</td>\n",
       "      <td>14.826368</td>\n",
       "    </tr>\n",
       "    <tr>\n",
       "      <th>std</th>\n",
       "      <td>9.078259</td>\n",
       "      <td>8.928512</td>\n",
       "    </tr>\n",
       "  </tbody>\n",
       "</table>\n",
       "</div>"
      ],
      "text/plain": [
       "           high        low\n",
       "mean  15.205141  14.826368\n",
       "std    9.078259   8.928512"
      ]
     },
     "execution_count": 109,
     "metadata": {},
     "output_type": "execute_result"
    }
   ],
   "source": [
    "dfg.describe().loc[['mean','std'],['high','low']]"
   ]
  },
  {
   "cell_type": "code",
   "execution_count": 110,
   "metadata": {},
   "outputs": [
    {
     "data": {
      "text/html": [
       "<div>\n",
       "<style scoped>\n",
       "    .dataframe tbody tr th:only-of-type {\n",
       "        vertical-align: middle;\n",
       "    }\n",
       "\n",
       "    .dataframe tbody tr th {\n",
       "        vertical-align: top;\n",
       "    }\n",
       "\n",
       "    .dataframe thead th {\n",
       "        text-align: right;\n",
       "    }\n",
       "</style>\n",
       "<table border=\"1\" class=\"dataframe\">\n",
       "  <thead>\n",
       "    <tr style=\"text-align: right;\">\n",
       "      <th></th>\n",
       "      <th>close</th>\n",
       "      <th>volume</th>\n",
       "      <th>open</th>\n",
       "      <th>high</th>\n",
       "      <th>low</th>\n",
       "    </tr>\n",
       "    <tr>\n",
       "      <th>date</th>\n",
       "      <th></th>\n",
       "      <th></th>\n",
       "      <th></th>\n",
       "      <th></th>\n",
       "      <th></th>\n",
       "    </tr>\n",
       "  </thead>\n",
       "  <tbody>\n",
       "    <tr>\n",
       "      <th>2018-09-19 16:00:00</th>\n",
       "      <td>22.10</td>\n",
       "      <td>142,544</td>\n",
       "      <td>22.20</td>\n",
       "      <td>22.420</td>\n",
       "      <td>22.00</td>\n",
       "    </tr>\n",
       "    <tr>\n",
       "      <th>2018-09-18 00:00:00</th>\n",
       "      <td>22.10</td>\n",
       "      <td>140735.0000</td>\n",
       "      <td>22.15</td>\n",
       "      <td>22.420</td>\n",
       "      <td>22.00</td>\n",
       "    </tr>\n",
       "    <tr>\n",
       "      <th>2018-09-17 00:00:00</th>\n",
       "      <td>22.16</td>\n",
       "      <td>54893.0000</td>\n",
       "      <td>22.43</td>\n",
       "      <td>22.565</td>\n",
       "      <td>22.15</td>\n",
       "    </tr>\n",
       "    <tr>\n",
       "      <th>2018-09-14 00:00:00</th>\n",
       "      <td>22.43</td>\n",
       "      <td>59536.0000</td>\n",
       "      <td>22.29</td>\n",
       "      <td>22.560</td>\n",
       "      <td>22.23</td>\n",
       "    </tr>\n",
       "    <tr>\n",
       "      <th>2018-09-13 00:00:00</th>\n",
       "      <td>22.29</td>\n",
       "      <td>61342.0000</td>\n",
       "      <td>22.43</td>\n",
       "      <td>22.670</td>\n",
       "      <td>22.25</td>\n",
       "    </tr>\n",
       "  </tbody>\n",
       "</table>\n",
       "</div>"
      ],
      "text/plain": [
       "                     close       volume   open    high    low\n",
       "date                                                         \n",
       "2018-09-19 16:00:00  22.10      142,544  22.20  22.420  22.00\n",
       "2018-09-18 00:00:00  22.10  140735.0000  22.15  22.420  22.00\n",
       "2018-09-17 00:00:00  22.16   54893.0000  22.43  22.565  22.15\n",
       "2018-09-14 00:00:00  22.43   59536.0000  22.29  22.560  22.23\n",
       "2018-09-13 00:00:00  22.29   61342.0000  22.43  22.670  22.25"
      ]
     },
     "execution_count": 110,
     "metadata": {},
     "output_type": "execute_result"
    }
   ],
   "source": [
    "dfg.head()"
   ]
  },
  {
   "cell_type": "code",
   "execution_count": 113,
   "metadata": {},
   "outputs": [
    {
     "data": {
      "text/html": [
       "<div>\n",
       "<style scoped>\n",
       "    .dataframe tbody tr th:only-of-type {\n",
       "        vertical-align: middle;\n",
       "    }\n",
       "\n",
       "    .dataframe tbody tr th {\n",
       "        vertical-align: top;\n",
       "    }\n",
       "\n",
       "    .dataframe thead th {\n",
       "        text-align: right;\n",
       "    }\n",
       "</style>\n",
       "<table border=\"1\" class=\"dataframe\">\n",
       "  <thead>\n",
       "    <tr style=\"text-align: right;\">\n",
       "      <th></th>\n",
       "      <th>close</th>\n",
       "      <th>volume</th>\n",
       "      <th>open</th>\n",
       "      <th>high</th>\n",
       "      <th>low</th>\n",
       "    </tr>\n",
       "    <tr>\n",
       "      <th>date</th>\n",
       "      <th></th>\n",
       "      <th></th>\n",
       "      <th></th>\n",
       "      <th></th>\n",
       "      <th></th>\n",
       "    </tr>\n",
       "  </thead>\n",
       "  <tbody>\n",
       "    <tr>\n",
       "      <th>2008-09-18</th>\n",
       "      <td>3.30</td>\n",
       "      <td>126877.0000</td>\n",
       "      <td>3.40</td>\n",
       "      <td>3.4500</td>\n",
       "      <td>3.27</td>\n",
       "    </tr>\n",
       "    <tr>\n",
       "      <th>2008-09-19</th>\n",
       "      <td>3.30</td>\n",
       "      <td>251526.0000</td>\n",
       "      <td>3.31</td>\n",
       "      <td>3.6717</td>\n",
       "      <td>3.20</td>\n",
       "    </tr>\n",
       "    <tr>\n",
       "      <th>2008-09-22</th>\n",
       "      <td>3.41</td>\n",
       "      <td>231344.0000</td>\n",
       "      <td>3.36</td>\n",
       "      <td>3.4600</td>\n",
       "      <td>3.30</td>\n",
       "    </tr>\n",
       "    <tr>\n",
       "      <th>2008-09-23</th>\n",
       "      <td>3.48</td>\n",
       "      <td>264652.0000</td>\n",
       "      <td>3.45</td>\n",
       "      <td>3.7500</td>\n",
       "      <td>3.36</td>\n",
       "    </tr>\n",
       "    <tr>\n",
       "      <th>2008-09-24</th>\n",
       "      <td>3.28</td>\n",
       "      <td>129769.0000</td>\n",
       "      <td>3.46</td>\n",
       "      <td>3.5800</td>\n",
       "      <td>3.26</td>\n",
       "    </tr>\n",
       "  </tbody>\n",
       "</table>\n",
       "</div>"
      ],
      "text/plain": [
       "            close       volume  open    high   low\n",
       "date                                              \n",
       "2008-09-18   3.30  126877.0000  3.40  3.4500  3.27\n",
       "2008-09-19   3.30  251526.0000  3.31  3.6717  3.20\n",
       "2008-09-22   3.41  231344.0000  3.36  3.4600  3.30\n",
       "2008-09-23   3.48  264652.0000  3.45  3.7500  3.36\n",
       "2008-09-24   3.28  129769.0000  3.46  3.5800  3.26"
      ]
     },
     "execution_count": 113,
     "metadata": {},
     "output_type": "execute_result"
    }
   ],
   "source": [
    "# We can change the index sorting\n",
    "dfg.sort_index(axis=0, ascending=True).head() "
   ]
  },
  {
   "cell_type": "code",
   "execution_count": 123,
   "metadata": {},
   "outputs": [
    {
     "data": {
      "text/html": [
       "<div>\n",
       "<style scoped>\n",
       "    .dataframe tbody tr th:only-of-type {\n",
       "        vertical-align: middle;\n",
       "    }\n",
       "\n",
       "    .dataframe tbody tr th {\n",
       "        vertical-align: top;\n",
       "    }\n",
       "\n",
       "    .dataframe thead th {\n",
       "        text-align: right;\n",
       "    }\n",
       "</style>\n",
       "<table border=\"1\" class=\"dataframe\">\n",
       "  <thead>\n",
       "    <tr style=\"text-align: right;\">\n",
       "      <th></th>\n",
       "      <th>close</th>\n",
       "      <th>volume</th>\n",
       "      <th>open</th>\n",
       "      <th>high</th>\n",
       "      <th>low</th>\n",
       "    </tr>\n",
       "    <tr>\n",
       "      <th>date</th>\n",
       "      <th></th>\n",
       "      <th></th>\n",
       "      <th></th>\n",
       "      <th></th>\n",
       "      <th></th>\n",
       "    </tr>\n",
       "  </thead>\n",
       "  <tbody>\n",
       "    <tr>\n",
       "      <th>2009-03-24</th>\n",
       "      <td>1.50</td>\n",
       "      <td>39300.0000</td>\n",
       "      <td>1.38</td>\n",
       "      <td>1.5100</td>\n",
       "      <td>1.380</td>\n",
       "    </tr>\n",
       "    <tr>\n",
       "      <th>2009-03-20</th>\n",
       "      <td>1.45</td>\n",
       "      <td>76175.0000</td>\n",
       "      <td>1.41</td>\n",
       "      <td>1.4700</td>\n",
       "      <td>1.400</td>\n",
       "    </tr>\n",
       "    <tr>\n",
       "      <th>2009-03-23</th>\n",
       "      <td>1.47</td>\n",
       "      <td>137700.0000</td>\n",
       "      <td>1.42</td>\n",
       "      <td>1.5250</td>\n",
       "      <td>1.420</td>\n",
       "    </tr>\n",
       "    <tr>\n",
       "      <th>2009-03-19</th>\n",
       "      <td>1.41</td>\n",
       "      <td>189240.0000</td>\n",
       "      <td>1.43</td>\n",
       "      <td>1.4800</td>\n",
       "      <td>1.365</td>\n",
       "    </tr>\n",
       "    <tr>\n",
       "      <th>2009-03-13</th>\n",
       "      <td>1.52</td>\n",
       "      <td>83325.0000</td>\n",
       "      <td>1.49</td>\n",
       "      <td>1.5700</td>\n",
       "      <td>1.490</td>\n",
       "    </tr>\n",
       "    <tr>\n",
       "      <th>2009-04-01</th>\n",
       "      <td>1.59</td>\n",
       "      <td>144192.0000</td>\n",
       "      <td>1.49</td>\n",
       "      <td>1.5900</td>\n",
       "      <td>1.490</td>\n",
       "    </tr>\n",
       "    <tr>\n",
       "      <th>2009-03-25</th>\n",
       "      <td>1.49</td>\n",
       "      <td>30926.0000</td>\n",
       "      <td>1.49</td>\n",
       "      <td>1.5200</td>\n",
       "      <td>1.490</td>\n",
       "    </tr>\n",
       "    <tr>\n",
       "      <th>2009-03-31</th>\n",
       "      <td>1.53</td>\n",
       "      <td>104170.0000</td>\n",
       "      <td>1.50</td>\n",
       "      <td>1.5400</td>\n",
       "      <td>1.500</td>\n",
       "    </tr>\n",
       "    <tr>\n",
       "      <th>2009-03-12</th>\n",
       "      <td>1.49</td>\n",
       "      <td>157672.0000</td>\n",
       "      <td>1.50</td>\n",
       "      <td>1.5464</td>\n",
       "      <td>1.490</td>\n",
       "    </tr>\n",
       "    <tr>\n",
       "      <th>2009-03-16</th>\n",
       "      <td>1.51</td>\n",
       "      <td>66174.0000</td>\n",
       "      <td>1.50</td>\n",
       "      <td>1.5300</td>\n",
       "      <td>1.500</td>\n",
       "    </tr>\n",
       "  </tbody>\n",
       "</table>\n",
       "</div>"
      ],
      "text/plain": [
       "            close       volume  open    high    low\n",
       "date                                               \n",
       "2009-03-24   1.50   39300.0000  1.38  1.5100  1.380\n",
       "2009-03-20   1.45   76175.0000  1.41  1.4700  1.400\n",
       "2009-03-23   1.47  137700.0000  1.42  1.5250  1.420\n",
       "2009-03-19   1.41  189240.0000  1.43  1.4800  1.365\n",
       "2009-03-13   1.52   83325.0000  1.49  1.5700  1.490\n",
       "2009-04-01   1.59  144192.0000  1.49  1.5900  1.490\n",
       "2009-03-25   1.49   30926.0000  1.49  1.5200  1.490\n",
       "2009-03-31   1.53  104170.0000  1.50  1.5400  1.500\n",
       "2009-03-12   1.49  157672.0000  1.50  1.5464  1.490\n",
       "2009-03-16   1.51   66174.0000  1.50  1.5300  1.500"
      ]
     },
     "execution_count": 123,
     "metadata": {},
     "output_type": "execute_result"
    }
   ],
   "source": [
    "# sort by value\n",
    "dfg.sort_values(by='open')[0:10]"
   ]
  },
  {
   "cell_type": "markdown",
   "metadata": {},
   "source": [
    "## Masks and Boolean Indexing"
   ]
  },
  {
   "cell_type": "code",
   "execution_count": 124,
   "metadata": {},
   "outputs": [
    {
     "data": {
      "text/html": [
       "<div>\n",
       "<style scoped>\n",
       "    .dataframe tbody tr th:only-of-type {\n",
       "        vertical-align: middle;\n",
       "    }\n",
       "\n",
       "    .dataframe tbody tr th {\n",
       "        vertical-align: top;\n",
       "    }\n",
       "\n",
       "    .dataframe thead th {\n",
       "        text-align: right;\n",
       "    }\n",
       "</style>\n",
       "<table border=\"1\" class=\"dataframe\">\n",
       "  <thead>\n",
       "    <tr style=\"text-align: right;\">\n",
       "      <th></th>\n",
       "      <th>close</th>\n",
       "      <th>volume</th>\n",
       "      <th>open</th>\n",
       "      <th>high</th>\n",
       "      <th>low</th>\n",
       "    </tr>\n",
       "    <tr>\n",
       "      <th>date</th>\n",
       "      <th></th>\n",
       "      <th></th>\n",
       "      <th></th>\n",
       "      <th></th>\n",
       "      <th></th>\n",
       "    </tr>\n",
       "  </thead>\n",
       "  <tbody>\n",
       "    <tr>\n",
       "      <th>2018-09-19 16:00:00</th>\n",
       "      <td>22.10</td>\n",
       "      <td>142,544</td>\n",
       "      <td>22.20</td>\n",
       "      <td>22.420</td>\n",
       "      <td>22.0000</td>\n",
       "    </tr>\n",
       "    <tr>\n",
       "      <th>2018-09-18 00:00:00</th>\n",
       "      <td>22.10</td>\n",
       "      <td>140735.0000</td>\n",
       "      <td>22.15</td>\n",
       "      <td>22.420</td>\n",
       "      <td>22.0000</td>\n",
       "    </tr>\n",
       "    <tr>\n",
       "      <th>2018-09-17 00:00:00</th>\n",
       "      <td>22.16</td>\n",
       "      <td>54893.0000</td>\n",
       "      <td>22.43</td>\n",
       "      <td>22.565</td>\n",
       "      <td>22.1500</td>\n",
       "    </tr>\n",
       "    <tr>\n",
       "      <th>2018-09-14 00:00:00</th>\n",
       "      <td>22.43</td>\n",
       "      <td>59536.0000</td>\n",
       "      <td>22.29</td>\n",
       "      <td>22.560</td>\n",
       "      <td>22.2300</td>\n",
       "    </tr>\n",
       "    <tr>\n",
       "      <th>2018-09-13 00:00:00</th>\n",
       "      <td>22.29</td>\n",
       "      <td>61342.0000</td>\n",
       "      <td>22.43</td>\n",
       "      <td>22.670</td>\n",
       "      <td>22.2500</td>\n",
       "    </tr>\n",
       "    <tr>\n",
       "      <th>2018-09-12 00:00:00</th>\n",
       "      <td>22.40</td>\n",
       "      <td>102361.0000</td>\n",
       "      <td>22.53</td>\n",
       "      <td>22.680</td>\n",
       "      <td>22.1500</td>\n",
       "    </tr>\n",
       "    <tr>\n",
       "      <th>2018-09-11 00:00:00</th>\n",
       "      <td>22.58</td>\n",
       "      <td>108116.0000</td>\n",
       "      <td>22.31</td>\n",
       "      <td>22.630</td>\n",
       "      <td>22.2000</td>\n",
       "    </tr>\n",
       "    <tr>\n",
       "      <th>2018-09-10 00:00:00</th>\n",
       "      <td>22.37</td>\n",
       "      <td>89903.0000</td>\n",
       "      <td>22.75</td>\n",
       "      <td>22.800</td>\n",
       "      <td>22.1900</td>\n",
       "    </tr>\n",
       "    <tr>\n",
       "      <th>2018-09-07 00:00:00</th>\n",
       "      <td>22.65</td>\n",
       "      <td>104034.0000</td>\n",
       "      <td>22.37</td>\n",
       "      <td>22.770</td>\n",
       "      <td>22.2300</td>\n",
       "    </tr>\n",
       "    <tr>\n",
       "      <th>2018-09-06 00:00:00</th>\n",
       "      <td>22.40</td>\n",
       "      <td>87539.0000</td>\n",
       "      <td>22.46</td>\n",
       "      <td>22.460</td>\n",
       "      <td>22.2676</td>\n",
       "    </tr>\n",
       "  </tbody>\n",
       "</table>\n",
       "</div>"
      ],
      "text/plain": [
       "                     close       volume   open    high      low\n",
       "date                                                           \n",
       "2018-09-19 16:00:00  22.10      142,544  22.20  22.420  22.0000\n",
       "2018-09-18 00:00:00  22.10  140735.0000  22.15  22.420  22.0000\n",
       "2018-09-17 00:00:00  22.16   54893.0000  22.43  22.565  22.1500\n",
       "2018-09-14 00:00:00  22.43   59536.0000  22.29  22.560  22.2300\n",
       "2018-09-13 00:00:00  22.29   61342.0000  22.43  22.670  22.2500\n",
       "2018-09-12 00:00:00  22.40  102361.0000  22.53  22.680  22.1500\n",
       "2018-09-11 00:00:00  22.58  108116.0000  22.31  22.630  22.2000\n",
       "2018-09-10 00:00:00  22.37   89903.0000  22.75  22.800  22.1900\n",
       "2018-09-07 00:00:00  22.65  104034.0000  22.37  22.770  22.2300\n",
       "2018-09-06 00:00:00  22.40   87539.0000  22.46  22.460  22.2676"
      ]
     },
     "execution_count": 124,
     "metadata": {},
     "output_type": "execute_result"
    }
   ],
   "source": [
    "dfg[0:10]"
   ]
  },
  {
   "cell_type": "code",
   "execution_count": 130,
   "metadata": {},
   "outputs": [
    {
     "name": "stdout",
     "output_type": "stream",
     "text": [
      "date\n",
      "2018-09-19 16:00:00    False\n",
      "2018-09-18 00:00:00    False\n",
      "2018-09-17 00:00:00     True\n",
      "2018-09-14 00:00:00    False\n",
      "2018-09-13 00:00:00     True\n",
      "2018-09-12 00:00:00     True\n",
      "2018-09-11 00:00:00    False\n",
      "2018-09-10 00:00:00     True\n",
      "2018-09-07 00:00:00    False\n",
      "2018-09-06 00:00:00     True\n",
      "Name: open, dtype: bool\n"
     ]
    }
   ],
   "source": [
    "# mask 1\n",
    "mg1 = dfg['open'][0:10]>22.40\n",
    "print (mg1)"
   ]
  },
  {
   "cell_type": "code",
   "execution_count": 131,
   "metadata": {},
   "outputs": [
    {
     "data": {
      "text/plain": [
       "date\n",
       "2018-09-17    22.43\n",
       "2018-09-13    22.43\n",
       "2018-09-12    22.53\n",
       "2018-09-10    22.75\n",
       "2018-09-06    22.46\n",
       "Name: open, dtype: float64"
      ]
     },
     "execution_count": 131,
     "metadata": {},
     "output_type": "execute_result"
    }
   ],
   "source": [
    "dfg['open'][0:10][dfg['open']>22.40]\n",
    "# shows only rows with opening price greater than 1115"
   ]
  },
  {
   "cell_type": "code",
   "execution_count": 132,
   "metadata": {},
   "outputs": [
    {
     "data": {
      "text/html": [
       "<div>\n",
       "<style scoped>\n",
       "    .dataframe tbody tr th:only-of-type {\n",
       "        vertical-align: middle;\n",
       "    }\n",
       "\n",
       "    .dataframe tbody tr th {\n",
       "        vertical-align: top;\n",
       "    }\n",
       "\n",
       "    .dataframe thead th {\n",
       "        text-align: right;\n",
       "    }\n",
       "</style>\n",
       "<table border=\"1\" class=\"dataframe\">\n",
       "  <thead>\n",
       "    <tr style=\"text-align: right;\">\n",
       "      <th></th>\n",
       "      <th>close</th>\n",
       "      <th>volume</th>\n",
       "      <th>open</th>\n",
       "      <th>high</th>\n",
       "      <th>low</th>\n",
       "    </tr>\n",
       "    <tr>\n",
       "      <th>date</th>\n",
       "      <th></th>\n",
       "      <th></th>\n",
       "      <th></th>\n",
       "      <th></th>\n",
       "      <th></th>\n",
       "    </tr>\n",
       "  </thead>\n",
       "  <tbody>\n",
       "    <tr>\n",
       "      <th>2018-09-19 16:00:00</th>\n",
       "      <td>False</td>\n",
       "      <td>True</td>\n",
       "      <td>False</td>\n",
       "      <td>False</td>\n",
       "      <td>False</td>\n",
       "    </tr>\n",
       "    <tr>\n",
       "      <th>2018-09-18 00:00:00</th>\n",
       "      <td>False</td>\n",
       "      <td>True</td>\n",
       "      <td>False</td>\n",
       "      <td>False</td>\n",
       "      <td>False</td>\n",
       "    </tr>\n",
       "    <tr>\n",
       "      <th>2018-09-17 00:00:00</th>\n",
       "      <td>False</td>\n",
       "      <td>True</td>\n",
       "      <td>False</td>\n",
       "      <td>True</td>\n",
       "      <td>False</td>\n",
       "    </tr>\n",
       "    <tr>\n",
       "      <th>2018-09-14 00:00:00</th>\n",
       "      <td>False</td>\n",
       "      <td>True</td>\n",
       "      <td>False</td>\n",
       "      <td>True</td>\n",
       "      <td>False</td>\n",
       "    </tr>\n",
       "    <tr>\n",
       "      <th>2018-09-13 00:00:00</th>\n",
       "      <td>False</td>\n",
       "      <td>True</td>\n",
       "      <td>False</td>\n",
       "      <td>True</td>\n",
       "      <td>False</td>\n",
       "    </tr>\n",
       "    <tr>\n",
       "      <th>2018-09-12 00:00:00</th>\n",
       "      <td>False</td>\n",
       "      <td>True</td>\n",
       "      <td>True</td>\n",
       "      <td>True</td>\n",
       "      <td>False</td>\n",
       "    </tr>\n",
       "    <tr>\n",
       "      <th>2018-09-11 00:00:00</th>\n",
       "      <td>True</td>\n",
       "      <td>True</td>\n",
       "      <td>False</td>\n",
       "      <td>True</td>\n",
       "      <td>False</td>\n",
       "    </tr>\n",
       "    <tr>\n",
       "      <th>2018-09-10 00:00:00</th>\n",
       "      <td>False</td>\n",
       "      <td>True</td>\n",
       "      <td>True</td>\n",
       "      <td>True</td>\n",
       "      <td>False</td>\n",
       "    </tr>\n",
       "    <tr>\n",
       "      <th>2018-09-07 00:00:00</th>\n",
       "      <td>True</td>\n",
       "      <td>True</td>\n",
       "      <td>False</td>\n",
       "      <td>True</td>\n",
       "      <td>False</td>\n",
       "    </tr>\n",
       "    <tr>\n",
       "      <th>2018-09-06 00:00:00</th>\n",
       "      <td>False</td>\n",
       "      <td>True</td>\n",
       "      <td>False</td>\n",
       "      <td>False</td>\n",
       "      <td>False</td>\n",
       "    </tr>\n",
       "  </tbody>\n",
       "</table>\n",
       "</div>"
      ],
      "text/plain": [
       "                     close  volume   open   high    low\n",
       "date                                                   \n",
       "2018-09-19 16:00:00  False    True  False  False  False\n",
       "2018-09-18 00:00:00  False    True  False  False  False\n",
       "2018-09-17 00:00:00  False    True  False   True  False\n",
       "2018-09-14 00:00:00  False    True  False   True  False\n",
       "2018-09-13 00:00:00  False    True  False   True  False\n",
       "2018-09-12 00:00:00  False    True   True   True  False\n",
       "2018-09-11 00:00:00   True    True  False   True  False\n",
       "2018-09-10 00:00:00  False    True   True   True  False\n",
       "2018-09-07 00:00:00   True    True  False   True  False\n",
       "2018-09-06 00:00:00  False    True  False  False  False"
      ]
     },
     "execution_count": 132,
     "metadata": {},
     "output_type": "execute_result"
    }
   ],
   "source": [
    "# mask 2 full data frame\n",
    "mg2 = dfg[0:10]>22.50\n",
    "mg2"
   ]
  },
  {
   "cell_type": "code",
   "execution_count": 133,
   "metadata": {},
   "outputs": [
    {
     "data": {
      "text/html": [
       "<div>\n",
       "<style scoped>\n",
       "    .dataframe tbody tr th:only-of-type {\n",
       "        vertical-align: middle;\n",
       "    }\n",
       "\n",
       "    .dataframe tbody tr th {\n",
       "        vertical-align: top;\n",
       "    }\n",
       "\n",
       "    .dataframe thead th {\n",
       "        text-align: right;\n",
       "    }\n",
       "</style>\n",
       "<table border=\"1\" class=\"dataframe\">\n",
       "  <thead>\n",
       "    <tr style=\"text-align: right;\">\n",
       "      <th></th>\n",
       "      <th>close</th>\n",
       "      <th>volume</th>\n",
       "      <th>open</th>\n",
       "      <th>high</th>\n",
       "      <th>low</th>\n",
       "    </tr>\n",
       "    <tr>\n",
       "      <th>date</th>\n",
       "      <th></th>\n",
       "      <th></th>\n",
       "      <th></th>\n",
       "      <th></th>\n",
       "      <th></th>\n",
       "    </tr>\n",
       "  </thead>\n",
       "  <tbody>\n",
       "    <tr>\n",
       "      <th>2018-09-19 16:00:00</th>\n",
       "      <td>NaN</td>\n",
       "      <td>142,544</td>\n",
       "      <td>NaN</td>\n",
       "      <td>NaN</td>\n",
       "      <td>NaN</td>\n",
       "    </tr>\n",
       "    <tr>\n",
       "      <th>2018-09-18 00:00:00</th>\n",
       "      <td>NaN</td>\n",
       "      <td>140735.0000</td>\n",
       "      <td>NaN</td>\n",
       "      <td>NaN</td>\n",
       "      <td>NaN</td>\n",
       "    </tr>\n",
       "    <tr>\n",
       "      <th>2018-09-17 00:00:00</th>\n",
       "      <td>NaN</td>\n",
       "      <td>54893.0000</td>\n",
       "      <td>NaN</td>\n",
       "      <td>22.565</td>\n",
       "      <td>NaN</td>\n",
       "    </tr>\n",
       "    <tr>\n",
       "      <th>2018-09-14 00:00:00</th>\n",
       "      <td>NaN</td>\n",
       "      <td>59536.0000</td>\n",
       "      <td>NaN</td>\n",
       "      <td>22.560</td>\n",
       "      <td>NaN</td>\n",
       "    </tr>\n",
       "    <tr>\n",
       "      <th>2018-09-13 00:00:00</th>\n",
       "      <td>NaN</td>\n",
       "      <td>61342.0000</td>\n",
       "      <td>NaN</td>\n",
       "      <td>22.670</td>\n",
       "      <td>NaN</td>\n",
       "    </tr>\n",
       "    <tr>\n",
       "      <th>2018-09-12 00:00:00</th>\n",
       "      <td>NaN</td>\n",
       "      <td>102361.0000</td>\n",
       "      <td>22.53</td>\n",
       "      <td>22.680</td>\n",
       "      <td>NaN</td>\n",
       "    </tr>\n",
       "    <tr>\n",
       "      <th>2018-09-11 00:00:00</th>\n",
       "      <td>22.58</td>\n",
       "      <td>108116.0000</td>\n",
       "      <td>NaN</td>\n",
       "      <td>22.630</td>\n",
       "      <td>NaN</td>\n",
       "    </tr>\n",
       "    <tr>\n",
       "      <th>2018-09-10 00:00:00</th>\n",
       "      <td>NaN</td>\n",
       "      <td>89903.0000</td>\n",
       "      <td>22.75</td>\n",
       "      <td>22.800</td>\n",
       "      <td>NaN</td>\n",
       "    </tr>\n",
       "    <tr>\n",
       "      <th>2018-09-07 00:00:00</th>\n",
       "      <td>22.65</td>\n",
       "      <td>104034.0000</td>\n",
       "      <td>NaN</td>\n",
       "      <td>22.770</td>\n",
       "      <td>NaN</td>\n",
       "    </tr>\n",
       "    <tr>\n",
       "      <th>2018-09-06 00:00:00</th>\n",
       "      <td>NaN</td>\n",
       "      <td>87539.0000</td>\n",
       "      <td>NaN</td>\n",
       "      <td>NaN</td>\n",
       "      <td>NaN</td>\n",
       "    </tr>\n",
       "  </tbody>\n",
       "</table>\n",
       "</div>"
      ],
      "text/plain": [
       "                     close       volume   open    high  low\n",
       "date                                                       \n",
       "2018-09-19 16:00:00    NaN      142,544    NaN     NaN  NaN\n",
       "2018-09-18 00:00:00    NaN  140735.0000    NaN     NaN  NaN\n",
       "2018-09-17 00:00:00    NaN   54893.0000    NaN  22.565  NaN\n",
       "2018-09-14 00:00:00    NaN   59536.0000    NaN  22.560  NaN\n",
       "2018-09-13 00:00:00    NaN   61342.0000    NaN  22.670  NaN\n",
       "2018-09-12 00:00:00    NaN  102361.0000  22.53  22.680  NaN\n",
       "2018-09-11 00:00:00  22.58  108116.0000    NaN  22.630  NaN\n",
       "2018-09-10 00:00:00    NaN   89903.0000  22.75  22.800  NaN\n",
       "2018-09-07 00:00:00  22.65  104034.0000    NaN  22.770  NaN\n",
       "2018-09-06 00:00:00    NaN   87539.0000    NaN     NaN  NaN"
      ]
     },
     "execution_count": 133,
     "metadata": {},
     "output_type": "execute_result"
    }
   ],
   "source": [
    "dfg[dfg>22.50].head(10)"
   ]
  },
  {
   "cell_type": "code",
   "execution_count": 134,
   "metadata": {},
   "outputs": [
    {
     "data": {
      "text/html": [
       "<div>\n",
       "<style scoped>\n",
       "    .dataframe tbody tr th:only-of-type {\n",
       "        vertical-align: middle;\n",
       "    }\n",
       "\n",
       "    .dataframe tbody tr th {\n",
       "        vertical-align: top;\n",
       "    }\n",
       "\n",
       "    .dataframe thead th {\n",
       "        text-align: right;\n",
       "    }\n",
       "</style>\n",
       "<table border=\"1\" class=\"dataframe\">\n",
       "  <thead>\n",
       "    <tr style=\"text-align: right;\">\n",
       "      <th></th>\n",
       "      <th>close</th>\n",
       "      <th>volume</th>\n",
       "      <th>open</th>\n",
       "      <th>high</th>\n",
       "      <th>low</th>\n",
       "    </tr>\n",
       "    <tr>\n",
       "      <th>date</th>\n",
       "      <th></th>\n",
       "      <th></th>\n",
       "      <th></th>\n",
       "      <th></th>\n",
       "      <th></th>\n",
       "    </tr>\n",
       "  </thead>\n",
       "  <tbody>\n",
       "  </tbody>\n",
       "</table>\n",
       "</div>"
      ],
      "text/plain": [
       "Empty DataFrame\n",
       "Columns: [close, volume, open, high, low]\n",
       "Index: []"
      ]
     },
     "execution_count": 134,
     "metadata": {},
     "output_type": "execute_result"
    }
   ],
   "source": [
    "# we can also drop all NaN values\n",
    "dfg[dfg>22.50].head(10).dropna()"
   ]
  },
  {
   "cell_type": "code",
   "execution_count": 135,
   "metadata": {},
   "outputs": [
    {
     "data": {
      "text/plain": [
       "True"
      ]
     },
     "execution_count": 135,
     "metadata": {},
     "output_type": "execute_result"
    }
   ],
   "source": [
    "# like Numpy, sometimes you need an actual copy, not a view or slice of the same data\n",
    "dfg_same = dfg\n",
    "dfg_same is dfg"
   ]
  },
  {
   "cell_type": "code",
   "execution_count": 136,
   "metadata": {},
   "outputs": [
    {
     "data": {
      "text/plain": [
       "False"
      ]
     },
     "execution_count": 136,
     "metadata": {},
     "output_type": "execute_result"
    }
   ],
   "source": [
    "dfg2 = dfg.copy()\n",
    "dfg2 is dfg"
   ]
  },
  {
   "cell_type": "markdown",
   "metadata": {},
   "source": [
    "## More Statistics and Operations"
   ]
  },
  {
   "cell_type": "code",
   "execution_count": 159,
   "metadata": {},
   "outputs": [
    {
     "data": {
      "text/plain": [
       "close    15.019470\n",
       "open     15.013484\n",
       "high     15.205141\n",
       "low      14.826368\n",
       "dtype: float64"
      ]
     },
     "execution_count": 159,
     "metadata": {},
     "output_type": "execute_result"
    }
   ],
   "source": [
    "# mean by column, also try var() for variance\n",
    "dfg.mean()   "
   ]
  },
  {
   "cell_type": "code",
   "execution_count": 160,
   "metadata": {
    "scrolled": true
   },
   "outputs": [
    {
     "data": {
      "text/plain": [
       "15.019469868995657"
      ]
     },
     "execution_count": 160,
     "metadata": {},
     "output_type": "execute_result"
    }
   ],
   "source": [
    "dfg['close'].mean()"
   ]
  },
  {
   "cell_type": "code",
   "execution_count": 155,
   "metadata": {
    "scrolled": true
   },
   "outputs": [
    {
     "data": {
      "text/plain": [
       "date\n",
       "2018-09-19 16:00:00    22.18000\n",
       "2018-09-18 00:00:00    22.16750\n",
       "2018-09-17 00:00:00    22.32625\n",
       "2018-09-14 00:00:00    22.37750\n",
       "2018-09-13 00:00:00    22.41000\n",
       "dtype: float64"
      ]
     },
     "execution_count": 155,
     "metadata": {},
     "output_type": "execute_result"
    }
   ],
   "source": [
    "dfg[0:5].mean(axis = 1) # row means of first five rows"
   ]
  },
  {
   "cell_type": "markdown",
   "metadata": {},
   "source": [
    "# The first touch: Plot"
   ]
  },
  {
   "cell_type": "code",
   "execution_count": 161,
   "metadata": {},
   "outputs": [
    {
     "data": {
      "text/plain": [
       "<matplotlib.axes._subplots.AxesSubplot at 0x11af628d0>"
      ]
     },
     "execution_count": 161,
     "metadata": {},
     "output_type": "execute_result"
    },
    {
     "data": {
      "image/png": "[encoded data removed]",
      "text/plain": [
       "<Figure size 720x432 with 1 Axes>"
      ]
     },
     "metadata": {},
     "output_type": "display_data"
    }
   ],
   "source": [
    "dfg.plot()"
   ]
  },
  {
   "cell_type": "code",
   "execution_count": 170,
   "metadata": {},
   "outputs": [
    {
     "data": {
      "text/plain": [
       "<matplotlib.axes._subplots.AxesSubplot at 0x11b1d1128>"
      ]
     },
     "execution_count": 170,
     "metadata": {},
     "output_type": "execute_result"
    },
    {
     "data": {
      "image/png": "[encoded data removed]",
      "text/plain": [
       "<Figure size 720x432 with 1 Axes>"
      ]
     },
     "metadata": {},
     "output_type": "display_data"
    }
   ],
   "source": [
    "dfg['2018':'1999'][['high','low']].plot()"
   ]
  },
  {
   "cell_type": "code",
   "execution_count": null,
   "metadata": {
    "collapsed": true
   },
   "outputs": [],
   "source": []
  }
 ],
 "metadata": {
  "anaconda-cloud": {},
  "kernelspec": {
   "display_name": "Python 3",
   "language": "python",
   "name": "python3"
  },
  "language_info": {
   "codemirror_mode": {
    "name": "ipython",
    "version": 3
   },
   "file_extension": ".py",
   "mimetype": "text/x-python",
   "name": "python",
   "nbconvert_exporter": "python",
   "pygments_lexer": "ipython3",
   "version": "3.6.1"
  },
  "toc": {
   "nav_menu": {},
   "number_sections": true,
   "sideBar": true,
   "skip_h1_title": false,
   "title_cell": "Table of Contents",
   "title_sidebar": "Contents",
   "toc_cell": false,
   "toc_position": {},
   "toc_section_display": true,
   "toc_window_display": false
  }
 },
 "nbformat": 4,
 "nbformat_minor": 1
}
